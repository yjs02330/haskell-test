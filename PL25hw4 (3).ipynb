{
 "cells": [
  {
   "cell_type": "markdown",
   "id": "5996802c-2013-4ab3-8e23-d07f6b72e096",
   "metadata": {},
   "source": [
    "# HW4: Parser Combinators (PL 2025 Fall @ HNU CE)\n",
    "- 이름: 이재석\n",
    "- 학번: 20210492"
   ]
  },
  {
   "cell_type": "markdown",
   "id": "db519a2b-46b7-4561-a0df-42ad454dd0e8",
   "metadata": {},
   "source": [
    "----\n",
    "과제 내용:\n",
    "- `operator :: Parser Char Tok` 작성하고 적절히 테스트\n",
    "- `integer :: Parser Char Tok` 작성하고 적절히 테스트\n",
    "- `lexer :: Parser Char [Tok]` 작성하고 적절히 테스트\n",
    "- `var :: Parser Tok Expr`     작성하고 적절히 테스트\n",
    "- `expr :: Parser Tok Expr`    작성하고 적절히 테스트"
   ]
  },
  {
   "cell_type": "code",
   "execution_count": 4,
   "id": "6cd135ea-58c1-4100-880b-8c5f4e30c0a2",
   "metadata": {},
   "outputs": [],
   "source": [
    ":opt no-lint\n",
    "{-# LANGUAGE TypeSynonymInstances FlexibleInstances #-}"
   ]
  },
  {
   "cell_type": "code",
   "execution_count": 5,
   "id": "8ef17e5b-9374-4cc6-9433-c7e91b213c02",
   "metadata": {},
   "outputs": [],
   "source": [
    "type Parser tok a = [tok] -> [(a, [tok])]"
   ]
  },
  {
   "cell_type": "code",
   "execution_count": 6,
   "id": "38299726-37c0-42fa-a713-a9422d5dbb95",
   "metadata": {},
   "outputs": [],
   "source": [
    "return :: a -> Parser tok a -- 입력 토큰열 ts를 소비하지 않고\n",
    "return v = \\ts -> [(v,ts)]  -- 그냥 v를 리턴하며 성공하는 파서\n",
    "\n",
    "failure :: Parser tok a -- 입력에 관계없이 무조건 실패하는 파서\n",
    "failure = \\_ -> []"
   ]
  },
  {
   "cell_type": "code",
   "execution_count": 7,
   "id": "6493d01f-6baf-4021-858c-5957b87f62c9",
   "metadata": {},
   "outputs": [
    {
     "data": {
      "text/html": [
       "<style>/* Styles used for the Hoogle display in the pager */\n",
       ".hoogle-doc {\n",
       "display: block;\n",
       "padding-bottom: 1.3em;\n",
       "padding-left: 0.4em;\n",
       "}\n",
       ".hoogle-code {\n",
       "display: block;\n",
       "font-family: monospace;\n",
       "white-space: pre;\n",
       "}\n",
       ".hoogle-text {\n",
       "display: block;\n",
       "}\n",
       ".hoogle-name {\n",
       "color: green;\n",
       "font-weight: bold;\n",
       "}\n",
       ".hoogle-head {\n",
       "font-weight: bold;\n",
       "}\n",
       ".hoogle-sub {\n",
       "display: block;\n",
       "margin-left: 0.4em;\n",
       "}\n",
       ".hoogle-package {\n",
       "font-weight: bold;\n",
       "font-style: italic;\n",
       "}\n",
       ".hoogle-module {\n",
       "font-weight: bold;\n",
       "}\n",
       ".hoogle-class {\n",
       "font-weight: bold;\n",
       "}\n",
       "\n",
       ".get-type {\n",
       "color: green;\n",
       "font-weight: bold;\n",
       "font-family: monospace;\n",
       "display: block;\n",
       "white-space: pre-wrap;\n",
       "}\n",
       ".show-type {\n",
       "color: green;\n",
       "font-weight: bold;\n",
       "font-family: monospace;\n",
       "margin-left: 1em;\n",
       "}\n",
       ".mono {\n",
       "font-family: monospace;\n",
       "display: block;\n",
       "}\n",
       ".err-msg {\n",
       "color: red;\n",
       "font-style: italic;\n",
       "font-family: monospace;\n",
       "white-space: pre;\n",
       "display: block;\n",
       "}\n",
       "#unshowable {\n",
       "color: red;\n",
       "font-weight: bold;\n",
       "}\n",
       ".err-msg.in.collapse {\n",
       "padding-top: 0.7em;\n",
       "}\n",
       "\n",
       ".highlight-code {\n",
       "white-space: pre;\n",
       "font-family: monospace;\n",
       "}\n",
       "\n",
       ".suggestion-warning { \n",
       "font-weight: bold;\n",
       "color: rgb(200, 130, 0);\n",
       "}\n",
       ".suggestion-error { \n",
       "font-weight: bold;\n",
       "color: red;\n",
       "}\n",
       ".suggestion-name {\n",
       "font-weight: bold;\n",
       "}\n",
       "\n",
       "</style><span class='get-type'>return True :: forall {tok}. Parser tok Bool</span>"
      ],
      "text/plain": [
       "return True :: forall {tok}. Parser tok Bool"
      ]
     },
     "metadata": {},
     "output_type": "display_data"
    }
   ],
   "source": [
    ":type return True"
   ]
  },
  {
   "cell_type": "code",
   "execution_count": 8,
   "id": "0996288f-0160-4327-8b81-44e0e49fdf98",
   "metadata": {},
   "outputs": [
    {
     "data": {
      "text/plain": [
       "[(True,\"abcd\")]"
      ]
     },
     "metadata": {},
     "output_type": "display_data"
    }
   ],
   "source": [
    "(return True) \"abcd\""
   ]
  },
  {
   "cell_type": "code",
   "execution_count": 9,
   "id": "60ef46b0-fe64-4c23-9382-8ae4e07165f4",
   "metadata": {},
   "outputs": [
    {
     "data": {
      "text/plain": [
       "[]"
      ]
     },
     "metadata": {},
     "output_type": "display_data"
    }
   ],
   "source": [
    "failure \"abcd\""
   ]
  },
  {
   "cell_type": "code",
   "execution_count": 10,
   "id": "8cb20c2b-6e64-4fd1-affc-2a85b00907a7",
   "metadata": {},
   "outputs": [],
   "source": [
    "item :: Parser tok tok\n",
    "item []     = []       -- 길이 0인 토큰열에 대해서는 실패\n",
    "item (t:ts) = [(t,ts)] -- 맨 앞의 토큰 t하나만 처리해 t를 리턴 "
   ]
  },
  {
   "cell_type": "code",
   "execution_count": 11,
   "id": "449c44e4-c33c-46aa-89b9-f5226456eaa1",
   "metadata": {},
   "outputs": [
    {
     "data": {
      "text/plain": [
       "[('a',\"bcd\")]"
      ]
     },
     "metadata": {},
     "output_type": "display_data"
    },
    {
     "data": {
      "text/plain": [
       "[('a',\"b\")]"
      ]
     },
     "metadata": {},
     "output_type": "display_data"
    },
    {
     "data": {
      "text/plain": [
       "[('a',\"\")]"
      ]
     },
     "metadata": {},
     "output_type": "display_data"
    }
   ],
   "source": [
    "item \"abcd\"\n",
    "item \"ab\"\n",
    "item \"a\""
   ]
  },
  {
   "cell_type": "code",
   "execution_count": 12,
   "id": "ac9cc40c-7394-4a9b-ac62-fdbfd64ed914",
   "metadata": {},
   "outputs": [
    {
     "data": {
      "text/plain": [
       "[]"
      ]
     },
     "metadata": {},
     "output_type": "display_data"
    }
   ],
   "source": [
    "item \"\""
   ]
  },
  {
   "cell_type": "code",
   "execution_count": 13,
   "id": "8e3a1633-8c93-4bff-a8dc-f39950b0f188",
   "metadata": {},
   "outputs": [],
   "source": [
    "(>>=) :: Parser tok a -> (a -> Parser tok b) -> Parser tok b\n",
    "p1 >>= pf = \\ts -> [ (v2,ts2) | (v1,ts1) <- p1 ts,\n",
    "{- 이어붙이기 sequencing -}       (v2,ts2) <- (pf v1) ts1 ]"
   ]
  },
  {
   "cell_type": "code",
   "execution_count": 14,
   "id": "71b5fe1b-78a1-412d-9562-f21995ab6d4a",
   "metadata": {},
   "outputs": [
    {
     "data": {
      "text/plain": [
       "[('b',\"cd\")]"
      ]
     },
     "metadata": {},
     "output_type": "display_data"
    }
   ],
   "source": [
    "(item >>= \\_ -> item) \"abcd\""
   ]
  },
  {
   "cell_type": "code",
   "execution_count": 15,
   "id": "5e8a1737-3d0d-46ab-85c5-bb12d0cce855",
   "metadata": {},
   "outputs": [
    {
     "data": {
      "text/plain": [
       "[(\"ab\",\"cd\")]"
      ]
     },
     "metadata": {},
     "output_type": "display_data"
    }
   ],
   "source": [
    "(item >>= \\c1 ->\n",
    " item >>= \\c2 ->\n",
    " return [c1,c2]  ) \"abcd\""
   ]
  },
  {
   "cell_type": "code",
   "execution_count": 16,
   "id": "c9c9fad1-46a5-446b-9618-6f55a2359153",
   "metadata": {},
   "outputs": [],
   "source": [
    "sat :: (tok -> Bool) -> Parser tok tok\n",
    "sat test = item >>= \\t ->          -- 토큰 하나를 읽어들여\n",
    "           if test t then return t -- 조건에 맞는 경우에만 성공하고 \n",
    "                     else failure  -- 그렇지 않으면 실패하는 파서"
   ]
  },
  {
   "cell_type": "code",
   "execution_count": 17,
   "id": "f3993312-52b8-4d6c-a5a9-132499ca24b3",
   "metadata": {},
   "outputs": [],
   "source": [
    "(<|>) :: Parser tok a -> Parser tok a -> Parser tok a  -- 선택 choice\n",
    "p1 <|> p2 = \\ts -> case p1 ts of\n",
    "                     []  -> p2 ts  -- 첫번째 파서가 실패하면 두번째로\n",
    "                     rs1 -> rs1    -- 첫번째가 성공하면 첫번째만으로"
   ]
  },
  {
   "cell_type": "code",
   "execution_count": 18,
   "id": "94dc56d7-c2ad-4ac8-9804-c081aa35f689",
   "metadata": {},
   "outputs": [
    {
     "data": {
      "text/html": [
       "<style>/* Styles used for the Hoogle display in the pager */\n",
       ".hoogle-doc {\n",
       "display: block;\n",
       "padding-bottom: 1.3em;\n",
       "padding-left: 0.4em;\n",
       "}\n",
       ".hoogle-code {\n",
       "display: block;\n",
       "font-family: monospace;\n",
       "white-space: pre;\n",
       "}\n",
       ".hoogle-text {\n",
       "display: block;\n",
       "}\n",
       ".hoogle-name {\n",
       "color: green;\n",
       "font-weight: bold;\n",
       "}\n",
       ".hoogle-head {\n",
       "font-weight: bold;\n",
       "}\n",
       ".hoogle-sub {\n",
       "display: block;\n",
       "margin-left: 0.4em;\n",
       "}\n",
       ".hoogle-package {\n",
       "font-weight: bold;\n",
       "font-style: italic;\n",
       "}\n",
       ".hoogle-module {\n",
       "font-weight: bold;\n",
       "}\n",
       ".hoogle-class {\n",
       "font-weight: bold;\n",
       "}\n",
       "\n",
       ".get-type {\n",
       "color: green;\n",
       "font-weight: bold;\n",
       "font-family: monospace;\n",
       "display: block;\n",
       "white-space: pre-wrap;\n",
       "}\n",
       ".show-type {\n",
       "color: green;\n",
       "font-weight: bold;\n",
       "font-family: monospace;\n",
       "margin-left: 1em;\n",
       "}\n",
       ".mono {\n",
       "font-family: monospace;\n",
       "display: block;\n",
       "}\n",
       ".err-msg {\n",
       "color: red;\n",
       "font-style: italic;\n",
       "font-family: monospace;\n",
       "white-space: pre;\n",
       "display: block;\n",
       "}\n",
       "#unshowable {\n",
       "color: red;\n",
       "font-weight: bold;\n",
       "}\n",
       ".err-msg.in.collapse {\n",
       "padding-top: 0.7em;\n",
       "}\n",
       "\n",
       ".highlight-code {\n",
       "white-space: pre;\n",
       "font-family: monospace;\n",
       "}\n",
       "\n",
       ".suggestion-warning { \n",
       "font-weight: bold;\n",
       "color: rgb(200, 130, 0);\n",
       "}\n",
       ".suggestion-error { \n",
       "font-weight: bold;\n",
       "color: red;\n",
       "}\n",
       ".suggestion-name {\n",
       "font-weight: bold;\n",
       "}\n",
       "\n",
       "</style><span class='get-type'>sat (`elem` \"123\") <|> sat (`elem` \"abc\") :: Parser Char Char</span>"
      ],
      "text/plain": [
       "sat (`elem` \"123\") <|> sat (`elem` \"abc\") :: Parser Char Char"
      ]
     },
     "metadata": {},
     "output_type": "display_data"
    }
   ],
   "source": [
    ":type sat (`elem` \"123\") <|> sat (`elem` \"abc\")"
   ]
  },
  {
   "cell_type": "code",
   "execution_count": 19,
   "id": "4f0e1918-bfb8-438b-ac6e-1e9abeb24748",
   "metadata": {},
   "outputs": [
    {
     "data": {
      "text/plain": [
       "True"
      ]
     },
     "metadata": {},
     "output_type": "display_data"
    }
   ],
   "source": [
    "'b' `elem` \"abc\""
   ]
  },
  {
   "cell_type": "code",
   "execution_count": 20,
   "id": "be026378-63f7-485c-9867-5bf535d038e8",
   "metadata": {},
   "outputs": [
    {
     "data": {
      "text/plain": [
       "[]"
      ]
     },
     "metadata": {},
     "output_type": "display_data"
    },
    {
     "data": {
      "text/plain": [
       "[]"
      ]
     },
     "metadata": {},
     "output_type": "display_data"
    },
    {
     "data": {
      "text/plain": [
       "[('2',\"34bcd\")]"
      ]
     },
     "metadata": {},
     "output_type": "display_data"
    },
    {
     "data": {
      "text/plain": [
       "[('b',\"cd234\")]"
      ]
     },
     "metadata": {},
     "output_type": "display_data"
    }
   ],
   "source": [
    "p_123_or_abc = sat (`elem` \"123\") <|> sat (`elem` \"abc\")\n",
    "\n",
    "p_123_or_abc \"456abc\"\n",
    "p_123_or_abc \"def456\"\n",
    "p_123_or_abc \"234bcd\"\n",
    "p_123_or_abc \"bcd234\""
   ]
  },
  {
   "cell_type": "code",
   "execution_count": 21,
   "id": "a0ebb43e-b676-4cda-889d-bdbce67addb5",
   "metadata": {},
   "outputs": [],
   "source": [
    "many, many1  :: Parser tok a -> Parser tok [a]  -- 상호재귀적으로 정의됨\n",
    "many  p = many1 p <|> return [] -- 1회 성공 또는 무조건 0회라 치고 성공\n",
    "\n",
    "many1 p = p      >>= \\v  ->  -- 한번 성공한 다음\n",
    "          many p >>= \\vs ->  -- 0회 이상 성공\n",
    "          return (v:vs)"
   ]
  },
  {
   "cell_type": "code",
   "execution_count": 22,
   "id": "30e0229e-5813-4381-a8a4-fb984bc78470",
   "metadata": {},
   "outputs": [
    {
     "data": {
      "text/plain": [
       "[(\"\",\"ddaabbcc\")]"
      ]
     },
     "metadata": {},
     "output_type": "display_data"
    },
    {
     "data": {
      "text/plain": [
       "[(\"aabbcc\",\"\")]"
      ]
     },
     "metadata": {},
     "output_type": "display_data"
    },
    {
     "data": {
      "text/plain": [
       "[(\"aabb\",\"ddcc\")]"
      ]
     },
     "metadata": {},
     "output_type": "display_data"
    }
   ],
   "source": [
    "many (sat (`elem` \"abc\")) \"ddaabbcc\"\n",
    "many (sat (`elem` \"abc\")) \"aabbcc\" \n",
    "many (sat (`elem` \"abc\")) \"aabbddcc\" "
   ]
  },
  {
   "cell_type": "code",
   "execution_count": 23,
   "id": "dacc5d4c-c557-4323-b898-4fd20a1dc982",
   "metadata": {},
   "outputs": [
    {
     "data": {
      "text/plain": [
       "[]"
      ]
     },
     "metadata": {},
     "output_type": "display_data"
    },
    {
     "data": {
      "text/plain": [
       "[(\"aabbcc\",\"\")]"
      ]
     },
     "metadata": {},
     "output_type": "display_data"
    },
    {
     "data": {
      "text/plain": [
       "[(\"aabb\",\"ddcc\")]"
      ]
     },
     "metadata": {},
     "output_type": "display_data"
    }
   ],
   "source": [
    "many1 (sat (`elem` \"abc\")) \"ddaabbcc\"\n",
    "many1 (sat (`elem` \"abc\")) \"aabbcc\" \n",
    "many1 (sat (`elem` \"abc\")) \"aabbddcc\" "
   ]
  },
  {
   "cell_type": "markdown",
   "id": "96eb4da6-3beb-498a-be01-bfbab044b5ef",
   "metadata": {},
   "source": [
    "# 문자열을 처리하는 파서"
   ]
  },
  {
   "cell_type": "code",
   "execution_count": 24,
   "id": "c6c1ecc2-c896-4c06-ac96-234c6177a707",
   "metadata": {},
   "outputs": [],
   "source": [
    "import Data.Char ( isDigit, isLower, isUpper,\n",
    "                   isAlpha, isAlphaNum, isSpace )\n",
    "digit = sat isDigit\n",
    "lower = sat isLower\n",
    "upper = sat isUpper\n",
    "letter = sat isAlpha\n",
    "alphanum = sat isAlphaNum\n",
    "space = sat isSpace"
   ]
  },
  {
   "cell_type": "code",
   "execution_count": 25,
   "id": "a0f212a0-cbaf-4985-82e4-9d522f83ff6f",
   "metadata": {},
   "outputs": [],
   "source": [
    "char :: Char -> Parser Char Char    -- char c는 주어진 글자 c와 첫글자가\n",
    "char c = sat (==c)                  -- 일치하는 경우에만 성공하는 파서\n",
    "\n",
    "string :: String -> Parser Char String  -- string s는 주어진 문자열 s와\n",
    "string []     = return []               -- 앞부분이 일치하는 경우에만 성공\n",
    "string (c:cs) = char c    >>= \\_ ->\n",
    "                string cs >>= \\_ ->\n",
    "                return (c:cs)"
   ]
  },
  {
   "cell_type": "code",
   "execution_count": 26,
   "id": "8d415b46-12ea-4dac-98ab-c01d549ad686",
   "metadata": {},
   "outputs": [],
   "source": [
    "nat :: Parser Char Int\n",
    "nat = many1 digit >>= \\s ->  -- 1개 이상의 digit(숫자)\n",
    "      return (read s)        -- 문자열 s를 정수로 변환한 값으로 성공시킴\n",
    "\n",
    "ident :: Parser Char String\n",
    "ident = lower         >>= \\c  ->  -- 첫글자는 소문자\n",
    "        many alphanum >>= \\cs ->  -- 그 뒤에는 0개 이상의 문자 또는 숫자\n",
    "        return (c:cs)\n",
    "\n",
    "spaces  :: Parser Char ()\n",
    "spaces  = many  space >>= \\_ -> return ()  -- 0개 이상의 공백문자 처리\n",
    "spaces1 :: Parser Char ()\n",
    "spaces1 = many1 space >>= \\_ -> return ()  -- 1개 이상의 공백문자 처리"
   ]
  },
  {
   "cell_type": "markdown",
   "id": "c1a07878-3b03-40f5-a447-ec7122a42635",
   "metadata": {},
   "source": [
    "# 어휘분석(토큰화)\n",
    "Lexical Analysis\n",
    "\n",
    "Lexing\n",
    "\n",
    "Tokenizing\n",
    "\n",
    "이항 연산자인 덧셈(`+`), 곱셈(`*`), 거듭제곱(`^`)을 지원하는 변수와 정수 상수를 포함한 수식의 `lexer` 작성\n",
    "\n",
    "변수의 첫 글자는 알파벳 소문으로 시작하고 나머지 글자는 알파벳 대소문자 또는 숫자로 이루어질 수 있다."
   ]
  },
  {
   "cell_type": "code",
   "execution_count": 27,
   "id": "653e1ae3-ee42-43d5-b87a-05a1e3c8e3c4",
   "metadata": {},
   "outputs": [],
   "source": [
    "data Tok = OP String -- 연산자\n",
    "         | ID String -- 변수 이름\n",
    "         | INT Int   -- 정수\n",
    "         | LP        -- (\n",
    "         | RP        -- )\n",
    "         deriving (Eq,Ord,Show)"
   ]
  },
  {
   "cell_type": "code",
   "execution_count": 52,
   "id": "a4e00030-9ab6-4a1b-b69c-16c38fc238eb",
   "metadata": {},
   "outputs": [],
   "source": [
    "-- 변수 이름\n",
    "varname :: Parser Char Tok\n",
    "varname = ident  >>= \\s -> return (ID s)\n",
    "\n",
    "-- 자연수\n",
    "natural :: Parser Char Tok\n",
    "natural = nat >>= \\n -> return (INT n)"
   ]
  },
  {
   "cell_type": "code",
   "execution_count": 53,
   "id": "294d7647-7666-41d2-8bd3-ce36df263978",
   "metadata": {},
   "outputs": [
    {
     "data": {
      "text/plain": [
       "[(ID \"ab123\",\" + 123\")]"
      ]
     },
     "metadata": {},
     "output_type": "display_data"
    },
    {
     "data": {
      "text/plain": [
       "[]"
      ]
     },
     "metadata": {},
     "output_type": "display_data"
    }
   ],
   "source": [
    "varname \"ab123 + 123\"\n",
    "varname \"123 + ab123\""
   ]
  },
  {
   "cell_type": "code",
   "execution_count": 54,
   "id": "6ab071d7-3c8e-4265-9a0a-19f3edca5e87",
   "metadata": {},
   "outputs": [
    {
     "data": {
      "text/plain": [
       "[]"
      ]
     },
     "metadata": {},
     "output_type": "display_data"
    },
    {
     "data": {
      "text/plain": [
       "[(INT 123,\" + ab123\")]"
      ]
     },
     "metadata": {},
     "output_type": "display_data"
    }
   ],
   "source": [
    "natural \"ab123 + 123\"\n",
    "natural \"123 + ab123\""
   ]
  },
  {
   "cell_type": "code",
   "execution_count": 55,
   "id": "e1916bdb-fa28-48ad-a47d-0d902f12fe5b",
   "metadata": {},
   "outputs": [],
   "source": [
    "-- 연산자 +, *, ^ 중 하나\n",
    "operator :: Parser Char Tok\n",
    "operator = sat (`elem` \"+-*/^\") >>= \\c -> return (OP [c])"
   ]
  },
  {
   "cell_type": "code",
   "execution_count": 56,
   "id": "4cdd7d9d-a7cf-4f5f-9222-284b39152f29",
   "metadata": {},
   "outputs": [
    {
     "data": {
      "text/plain": [
       "[(OP \"*\",\"abc\")]"
      ]
     },
     "metadata": {},
     "output_type": "display_data"
    },
    {
     "data": {
      "text/plain": [
       "[(OP \"-\",\"\")]"
      ]
     },
     "metadata": {},
     "output_type": "display_data"
    },
    {
     "data": {
      "text/plain": [
       "[(OP \"^\",\"123\")]"
      ]
     },
     "metadata": {},
     "output_type": "display_data"
    }
   ],
   "source": [
    "-- operator 적절히 테스트\n",
    "operator \"*abc\"\n",
    "operator \"-\" --실패\n",
    "operator \"^123\" "
   ]
  },
  {
   "cell_type": "code",
   "execution_count": 57,
   "id": "8ee2bb4f-3ac0-46c9-abd1-5fa9ee6a93af",
   "metadata": {},
   "outputs": [],
   "source": [
    "option :: a -> Parser tok a -> Parser tok a\n",
    "option x p = p <|> return x"
   ]
  },
  {
   "cell_type": "code",
   "execution_count": 63,
   "id": "05cd2026-d7f0-4e05-87dc-d4530c694f80",
   "metadata": {},
   "outputs": [],
   "source": [
    "-- 0이나 12와 같은 자연수와 -12같은 음수 형태의 문자열 모두 처리\n",
    "integer :: Parser Char Tok\n",
    "integer = (char '-' >> many1 digit >>= \\s -> return (INT (negate (read s))))\n",
    "          <|> (many1 digit >>= \\s -> return (INT (read s)))\n"
   ]
  },
  {
   "cell_type": "code",
   "execution_count": 35,
   "id": "e3411874-9b21-41a9-8ba0-6d463dc11637",
   "metadata": {},
   "outputs": [
    {
     "data": {
      "text/plain": [
       "[(INT (-123),\"\")]"
      ]
     },
     "metadata": {},
     "output_type": "display_data"
    }
   ],
   "source": [
    "-- integer 적절히 테스트\n",
    "test_integer1 = integer \"123\"\n",
    "test_integer1"
   ]
  },
  {
   "cell_type": "code",
   "execution_count": 37,
   "id": "9ef5451c-dac7-4672-a01c-c3a1324145cc",
   "metadata": {},
   "outputs": [],
   "source": [
    "tok :: Parser Char a -> Parser Char a\n",
    "tok p = p      >>= \\v ->\n",
    "        spaces >>= \\_ ->\n",
    "        return v"
   ]
  },
  {
   "cell_type": "code",
   "execution_count": 64,
   "id": "43decf2a-2420-4b0e-92f4-ed035e3b7a4b",
   "metadata": {},
   "outputs": [],
   "source": [
    "lexer :: Parser Char [Tok]\n",
    "lexer = spaces >> many token\n",
    "  where\n",
    "    token = tok operator\n",
    "         <|> tok (char '(' >> return LP)\n",
    "         <|> tok (char ')' >> return RP)\n",
    "         <|> tok integer\n",
    "         <|> tok varname\n",
    "    tok p = p >>= \\t -> spaces >> return t"
   ]
  },
  {
   "cell_type": "code",
   "execution_count": 50,
   "id": "73a515fa-f516-4283-a584-d4efdb343db5",
   "metadata": {
    "editable": true,
    "slideshow": {
     "slide_type": ""
    },
    "tags": []
   },
   "outputs": [],
   "source": [
    "-- lexer 적절히 테스트\n",
    "-- 커널이 죽어버림\n",
    "test_lexer_simple = lexer \"123\""
   ]
  },
  {
   "cell_type": "markdown",
   "id": "28774b02-968f-48ea-8f18-df1265646bed",
   "metadata": {},
   "source": [
    "# 문법분석\n",
    "Syntax \n",
    "\n",
    "Parsing"
   ]
  },
  {
   "cell_type": "code",
   "execution_count": 40,
   "id": "35d2044e-fe9f-4f97-ac27-e1b9ea931072",
   "metadata": {},
   "outputs": [],
   "source": [
    "data Expr = Lit Int            -- n\n",
    "          | Var String         -- x\n",
    "          | Add Expr Expr      -- e1 + e2  (좌결합, 우선순위 가장 낮음)\n",
    "          | Mul Expr Expr      -- e1 * e2  (좌결합, 우선순위 중간)\n",
    "          | Exp Expr Expr      -- e1 ^ e2  (우결합, 우선순외 가장 높음) \n",
    "          deriving (Eq, Ord, Show)"
   ]
  },
  {
   "cell_type": "code",
   "execution_count": 71,
   "id": "079a0f38-6348-46c6-9a78-45ca1736c27d",
   "metadata": {},
   "outputs": [],
   "source": [
    "isINT :: Tok -> Bool\n",
    "isINT (INT _) = True\n",
    "isINT _       = False\n",
    "\n",
    "int2lit :: Tok -> Expr\n",
    "int2lit (INT n) = (Lit n)\n",
    "int2lit t       = error (show t ++ \" is not INT\")"
   ]
  },
  {
   "cell_type": "code",
   "execution_count": 72,
   "id": "7cc12b85-32fd-4aef-878f-9d13a2515ab8",
   "metadata": {},
   "outputs": [],
   "source": [
    "-- INT 토큰만 Lit로 분석하는 파서\n",
    "lit :: Parser Tok Expr\n",
    "lit = sat isINT >>= \\t -> return (int2lit t)"
   ]
  },
  {
   "cell_type": "code",
   "execution_count": 73,
   "id": "57b6d4e7-03eb-414a-9949-50eb8b21e402",
   "metadata": {},
   "outputs": [
    {
     "data": {
      "text/plain": [
       "[(Lit 3,[OP \"+\",INT 2])]"
      ]
     },
     "metadata": {},
     "output_type": "display_data"
    },
    {
     "data": {
      "text/plain": [
       "[]"
      ]
     },
     "metadata": {},
     "output_type": "display_data"
    }
   ],
   "source": [
    "lit [INT 3, OP \"+\", INT 2]\n",
    "lit [ID \"x\", OP \"+\", INT 2]"
   ]
  },
  {
   "cell_type": "code",
   "execution_count": 74,
   "id": "fbe2eedc-b6de-45db-b388-5de8a73537cf",
   "metadata": {},
   "outputs": [],
   "source": [
    "-- ID 토큰만 Var로 분석하는 파서\n",
    "var :: Parser Tok Expr\n",
    "var = sat isID >>= \\(ID s) -> return (Var s) -- lit 와 비슷한 방법으로 작성\n",
    "  where\n",
    "    isID (ID _) = True\n",
    "    isID _      = False"
   ]
  },
  {
   "cell_type": "code",
   "execution_count": 75,
   "id": "cb13f79e-4385-477d-a75c-01ec548a1ee8",
   "metadata": {},
   "outputs": [
    {
     "data": {
      "text/plain": [
       "[(Var \"x\",[OP \"+\",INT 1])]"
      ]
     },
     "metadata": {},
     "output_type": "display_data"
    },
    {
     "data": {
      "text/plain": [
       "[]"
      ]
     },
     "metadata": {},
     "output_type": "display_data"
    }
   ],
   "source": [
    "var [ID \"x\", OP \"+\", INT 1] -- [(Var \"x\", [OP \"+\", INT 1])]\n",
    "var [INT 1] "
   ]
  },
  {
   "cell_type": "code",
   "execution_count": 79,
   "id": "35a149a9-aa4e-4fc1-b483-119108199d9c",
   "metadata": {},
   "outputs": [],
   "source": [
    "--모르겠습니다..\n",
    "expr :: Parser Tok Expr\n",
    "expr = undefined -- 적절히 작성\n",
    "\n",
    "-- 힌트: expr0, expr1, expr2, ... 와 같이 결합 단계별 파서로 나누어 작성. 물론 lit와 var도 활용"
   ]
  },
  {
   "cell_type": "code",
   "execution_count": 82,
   "id": "cdf5265a-f746-4dcf-9352-ab2a1649a692",
   "metadata": {},
   "outputs": [],
   "source": [
    "-- expr0, expr1, expr2, ... 및 expr 파서를 적절히 테스트"
   ]
  },
  {
   "cell_type": "code",
   "execution_count": 70,
   "id": "b397394d-de0b-4f85-8758-b0330af326dc",
   "metadata": {},
   "outputs": [],
   "source": [
    "-- expr0, expr1, expr2, ... 및 expr 파서를 적절히 테스트"
   ]
  },
  {
   "cell_type": "code",
   "execution_count": 49,
   "id": "73e28acb-7035-4be7-838d-2f1449d7eadc",
   "metadata": {},
   "outputs": [],
   "source": [
    "-- expr0, expr1, expr2, ... 및 expr 파서를 적절히 테스트"
   ]
  },
  {
   "cell_type": "code",
   "execution_count": 72,
   "id": "28bb84ec-716e-450e-8a15-59a0127eee84",
   "metadata": {},
   "outputs": [],
   "source": [
    "-- expr0, expr1, expr2, ... 및 expr 파서를 적절히 테스트"
   ]
  },
  {
   "cell_type": "code",
   "execution_count": 73,
   "id": "aa9ded7b-c577-4372-81f3-d48c054ffa93",
   "metadata": {},
   "outputs": [],
   "source": [
    "-- expr0, expr1, expr2, ... 및 expr 파서를 적절히 테스트"
   ]
  },
  {
   "cell_type": "code",
   "execution_count": 74,
   "id": "96819605-e77d-4ce1-be99-92a92b485ad7",
   "metadata": {},
   "outputs": [],
   "source": [
    "-- expr0, expr1, expr2, ... 및 expr 파서를 적절히 테스트"
   ]
  },
  {
   "cell_type": "code",
   "execution_count": null,
   "id": "61d8f154-dcf5-4301-b0a3-245a0c365ca6",
   "metadata": {},
   "outputs": [],
   "source": []
  },
  {
   "cell_type": "code",
   "execution_count": null,
   "id": "f309faf8-e680-4591-bbfb-c1e739ca726e",
   "metadata": {},
   "outputs": [],
   "source": []
  }
 ],
 "metadata": {
  "kernelspec": {
   "display_name": "Haskell",
   "language": "haskell",
   "name": "haskell"
  },
  "language_info": {
   "codemirror_mode": "ihaskell",
   "file_extension": ".hs",
   "mimetype": "text/x-haskell",
   "name": "haskell",
   "pygments_lexer": "Haskell",
   "version": "9.8.4"
  }
 },
 "nbformat": 4,
 "nbformat_minor": 5
}
