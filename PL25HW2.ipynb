{
 "cells": [
  {
   "cell_type": "markdown",
   "id": "ce93f338-42bb-4d4b-914a-69db6fd12492",
   "metadata": {},
   "source": [
    "# HW2 수식 최적화를 작은걸음 의미구조로 표현 (PL 2025 Fall @ HNU CE)"
   ]
  },
  {
   "cell_type": "markdown",
   "id": "4533b870-6c60-4ad6-889c-c677deb77157",
   "metadata": {},
   "source": [
    "- 이름: 이재석\n",
    "- 학번: 20210492\n",
    "\n",
    "과제를 하기 전에 위에다 학번과 이름을 꼭 작성하기"
   ]
  },
  {
   "cell_type": "code",
   "execution_count": 1,
   "id": "f3ef318b-ac75-4c2d-86b4-85d6979b0cf2",
   "metadata": {},
   "outputs": [],
   "source": [
    ":opt no-lint\n",
    "{-# LANGUAGE ScopedTypeVariables #-}\n",
    "\n",
    "import Data.List -- nub, sort, union, foldl, foldr, foldl1, foldr1, (\\\\), ...\n",
    "-- 더 자세한 내용은 https://hackage.haskell.org/package/base-4.17.1.0/docs/Data-List.html"
   ]
  },
  {
   "cell_type": "code",
   "execution_count": 3,
   "id": "c6d070fb-d518-4b29-aaa6-97a4cf44e862",
   "metadata": {},
   "outputs": [
    {
     "data": {
      "text/plain": [
       "The Glorious Glasgow Haskell Compilation System, version 9.4.5"
      ]
     },
     "metadata": {},
     "output_type": "display_data"
    }
   ],
   "source": [
    ":!ghc -- --version"
   ]
  },
  {
   "cell_type": "code",
   "execution_count": 4,
   "id": "a6ba20f5-0cbd-4f51-9c3d-ada2102fd32f",
   "metadata": {},
   "outputs": [],
   "source": [
    "data Expr = I Int         -- n 정수\n",
    "          | V String      -- x 변수\n",
    "          | Add Expr Expr -- e + e 덧셈식\n",
    "          | Mul Expr Expr -- e × e 곱셈식\n",
    "    deriving (Eq,Ord,Show)"
   ]
  },
  {
   "cell_type": "markdown",
   "id": "e6bf7b5d-6ac9-4999-8fec-fd468b3fde88",
   "metadata": {},
   "source": [
    "최적화 핵심 규칙을 수식과 한국어로\n",
    "\n",
    "- $n_1+n_2$를 $n$으로 최적화 (단, $n\\equiv n_1+n_2$ 정수 덧셈 결과)\n",
    "- $n_1\\times n_2$를 $n$으로 최적화 (단, $n\\equiv n_1\\times n_2$ 정수 곱셈 결과)\n",
    "- $e_1+0$를 $e_1$으로, $0+e_2$를 $e_2$로 최적화\n",
    "- $e_1\\times 1$를 $e_1$으로, $1\\times e_2$를 $e_2$로 최적화\n",
    "- $e_1\\times 0$를 $0$으로, $0\\times e_2$를 $0$으로 최적화\n"
   ]
  },
  {
   "cell_type": "markdown",
   "id": "06a928d0-7177-4378-a595-c9c02c10fcd0",
   "metadata": {},
   "source": [
    "작은걸음 동작과정 의미구조(small-step operational semantics)로 최적화 핵심 규칙을 표현\n",
    "\n",
    "$\\displaystyle\\frac{}{n_1 + n_2 \\longmapsto n}~(\\text{단,}~n\\equiv n_1+n_2)$\n",
    "\n",
    "$\\displaystyle\\frac{}{n_1 \\times n_2 \\longmapsto n}~(\\text{단,}~n\\equiv n_1\\times n_2)$\n",
    "\n",
    "$\\displaystyle\\frac{}{e_1 + 0 \\longmapsto e_1} \\qquad \\frac{}{0 + e_2 \\longmapsto e_2}$\n",
    "\n",
    "$\\displaystyle\\frac{}{e_1 \\times 0 \\longmapsto 0} \\qquad \\frac{}{0 \\times e_2 \\longmapsto 0}$\n",
    "\n",
    "$\\displaystyle\\frac{}{e_1 \\times 1 \\longmapsto e_1} \\qquad \\frac{}{1 \\times e_2 \\longmapsto e_2}$"
   ]
  },
  {
   "cell_type": "markdown",
   "id": "59b170c4-d9cf-47b7-99e3-68fbd18585a7",
   "metadata": {},
   "source": [
    "---\n",
    "### 1. 핵심적 규칙 외에 필요한 맥락규칙을 추론규칙의 형태로 작성해 보기 (2점)\n",
    "특정 맥락을 우선시하지 않는 가장 기본적인 형태의 비결정적인 의미구조로 작성.\n",
    "\n",
    "수식 기능을 활용해서 작성해도 좋고 수식 작성이 어렵게 느껴지는 사람들은 아래와 같이 아스키 그림 형태로 작성해도 됨.\n",
    "\n",
    "\n",
    "```\n",
    "조건1   조건2\n",
    "-------------\n",
    " e |--> e1\n",
    "```\n",
    "\n",
    "**주의**: 이 문제를 정답으로 풀어내지 못하면 전체 과제 점수가 0점이다. 여기서 작성한 의미구조 규칙대로 프로그램을 짜는 과제인데, 가장 기본이 되는 내용이 없으면 무의미하기 때문. (무슨 스펙을 기준으로 코딩? 스펙이 없는데? ... 라는 상황) 따라서 이 문제가 점수 배점이 낮으니까 대충 넘어가고 나머지 프로그래밍이나 해야지라고 생각하면 전체 과제 점수가 0점이 되기에 딱 좋은 접근 방식이다. 이 문제만은 절대로 틀리지 않고 검토에 검토, 재검토, 재재검토, 재재재검토, 재재재재재검토를 거쳐 반드시 정확하게 작성하고 다른 문제를 풀겠다는 자세로 접근하는 것을 매우 강력하게 권장함."
   ]
  },
  {
   "cell_type": "markdown",
   "id": "2266854c-e275-4e72-9ad2-c6e54ba6b41f",
   "metadata": {},
   "source": [
    "여기에 맥락 규칙들 작성\n",
    "\n",
    "e1 |--> e1'\n",
    "----------------- (왼쪽더하기)\n",
    "e1 + e2 |--> e1' + e2\n",
    "\n",
    "e2 |--> e2'\n",
    "----------------- (오른쪽더하기)\n",
    "e1 + e2 |--> e1 + e2'\n",
    "\n",
    "e1 |--> e1'\n",
    "----------------- (왼쪽 곱하기)\n",
    "e1 * e2 |--> e1' * e2\n",
    "\n",
    "e2 |--> e2'\n",
    "-----------------(오른쪽 곱하기)\n",
    "e1 * e2 |--> e1 * e2'"
   ]
  },
  {
   "cell_type": "markdown",
   "id": "adfbe9f7-1eb4-41b4-bc95-b35ba58a7e17",
   "metadata": {},
   "source": [
    "여기에 맥락 규칙들 작성"
   ]
  },
  {
   "cell_type": "markdown",
   "id": "4c05b1b6-5ebe-403d-9951-3eec78b9b433",
   "metadata": {},
   "source": [
    "---"
   ]
  },
  {
   "cell_type": "code",
   "execution_count": 216,
   "id": "d2988baa-99a1-4224-a876-5f620f5a6ed5",
   "metadata": {},
   "outputs": [],
   "source": [
    "-- 식(Expr)을 적절히 알아보기 좋게 출력할 만한 문자열로 변환하는 함수\n",
    "expr2str :: Expr -> String\n",
    "expr2str (I n)\n",
    "        | n >= 0     = show n\n",
    "        | otherwise  = \"(\" ++ show n ++ \")\" --음수 결과확인을 위해 일부 수정함\n",
    "expr2str (V x)       = x\n",
    "expr2str (Add e1 e2) = paren (expr2str e1 ++ \"+\" ++ expr2str e2) \n",
    "expr2str (Mul e1 e2) = paren (expr2str e1 ++ \"*\" ++ expr2str e2)\n",
    "\n",
    "paren s = \"(\"++s++\")\""
   ]
  },
  {
   "cell_type": "markdown",
   "id": "c021286b-fdd5-43ba-8fb2-d36aaed85345",
   "metadata": {},
   "source": [
    "---\n",
    "### 2. 위의 최적화 규칙들에 따라 1단계 진행시키는 함수 작성 (6점)\n",
    "앞서 제시된 핵심규칙과 위의 1번 문제에서 작성한 맥락규칙에 따라 작은걸음 의미구조를 한 단계 진행시키는 `step :: Expr -> [Expr]` 함수의 형태로 작성.\n",
    "\n",
    "필요하다면 적절한 보조함수 혹은 지역함수 등을 정의하여 그것들을 활용하여 작성해도 좋다. 테스트 결과를 알아보기 좋게 `expr2str` 함수 활용을 권장.\n",
    "\n",
    "작성하고 적절히 테스트 실행. 최소 4개 이상의 적절히 다양한 식들로 테스트해 볼 것."
   ]
  },
  {
   "cell_type": "code",
   "execution_count": 198,
   "id": "6feca46a-1bc5-48df-b8f2-c3a446a27f88",
   "metadata": {},
   "outputs": [],
   "source": [
    "-- step :: Expr -> [Expr]\n",
    "step :: Expr -> [Expr]\n",
    "step (I n) = []\n",
    "step (V x) = []\n",
    "step (Add e1 e2) = \n",
    "    case (e1, e2) of\n",
    "        (I n1, I n2) -> [I (n1 + n2)]\n",
    "        (_, I 0)     -> [e1]\n",
    "        (I 0, _)     -> [e2]\n",
    "        _            -> leftSteps ++ rightSteps\n",
    "  where\n",
    "    leftSteps  = map (\\e1' -> Add e1' e2) $ step e1\n",
    "    rightSteps = map (\\e2' -> Add e1 e2') $ step e2\n",
    "step (Mul e1 e2) = \n",
    "    case (e1, e2) of\n",
    "        (I n1, I n2) -> [I (n1 * n2)]\n",
    "        (_, I 0)     -> [I 0]\n",
    "        (I 0, _)     -> [I 0]\n",
    "        (_, I 1)     -> [e1]\n",
    "        (I 1, _)     -> [e2]\n",
    "        _            -> leftSteps ++ rightSteps\n",
    "  where\n",
    "    leftSteps  = map (\\e1' -> Mul e1' e2) $ step e1\n",
    "    rightSteps = map (\\e2' -> Mul e1 e2') $ step e2\n",
    "step _ = []"
   ]
  },
  {
   "cell_type": "code",
   "execution_count": 199,
   "id": "e6f5e40b-05d4-4bc9-ae59-00ef41187b7c",
   "metadata": {},
   "outputs": [
    {
     "data": {
      "text/plain": [
       "[\"(6+x)\"]"
      ]
     },
     "metadata": {},
     "output_type": "display_data"
    }
   ],
   "source": [
    "-- 적절히 테스트 왼쪽 더하기\n",
    "test2_1 = Add (Add (I 2) (I 4)) (V \"x\")\n",
    "stepTest e = map expr2str (step e)\n",
    "stepTest test2_1"
   ]
  },
  {
   "cell_type": "code",
   "execution_count": 200,
   "id": "c5f510c9-5908-47ac-abb5-7049c5087b6f",
   "metadata": {},
   "outputs": [
    {
     "data": {
      "text/plain": [
       "[\"(8+9)\"]"
      ]
     },
     "metadata": {},
     "output_type": "display_data"
    }
   ],
   "source": [
    "-- 적절히 테스트 오른쪽 더하기\n",
    "test2_2 = Add (I 8) (Add (I 5) (I 4))\n",
    "stepTest test2_2"
   ]
  },
  {
   "cell_type": "code",
   "execution_count": 201,
   "id": "fe345d2b-515c-491c-8fb1-805298e2fac3",
   "metadata": {},
   "outputs": [
    {
     "data": {
      "text/plain": [
       "[\"(4*30)\"]"
      ]
     },
     "metadata": {},
     "output_type": "display_data"
    }
   ],
   "source": [
    "-- 적절히 테스트 오른쪽 곱하기\n",
    "test2_3 = Mul (I 4) (Mul (I 5) (I 6))\n",
    "stepTest test2_3"
   ]
  },
  {
   "cell_type": "code",
   "execution_count": 219,
   "id": "bc2fb923-3d5e-4c1e-8d39-debecc750961",
   "metadata": {},
   "outputs": [
    {
     "data": {
      "text/plain": [
       "[\"(0*10)\"]"
      ]
     },
     "metadata": {},
     "output_type": "display_data"
    }
   ],
   "source": [
    "-- 적절히 테스트 왼쪽 곱하기\n",
    "test2_4 = Mul (Mul (I 4) (I 0)) (I 10)\n",
    "stepTest test2_4"
   ]
  },
  {
   "cell_type": "markdown",
   "id": "f52b4364-8720-47cd-abe9-2fa4888cf2e4",
   "metadata": {},
   "source": [
    "---\n",
    "### 3. step을 활용해 더 이상 최적화할 수 없는 단계까지 최대한 진행시키는 함수 작성 (4점)\n",
    "`opt` 함수의 계산 결과는 최적화 작은걸음이 몇 단계나 진행되었는지 그 정수값(`Int`)과 최적화된 식(`Expr`)의 순서쌍이다.\n",
    "\n",
    "최적화 걸음을 적용할 수 없는 경우에는 `opt e0 == (0,e0)`가 되어야 한다.\n",
    "\n",
    "함수를 작성하고 적어도 4개 이상의 적절히 다양한 식들로 테스트해 보라. 테스트 결과를 알아보기 좋게 `expr2str` 함수 활용을 권장.\n",
    "\n",
    "**힌트**: 교재의 `hat` 함수, 하스켈 표준라이브러리 `takeWhile`, `length`, `last` 함수들"
   ]
  },
  {
   "cell_type": "code",
   "execution_count": 243,
   "id": "207d7bfe-81da-46a2-85e4-4910b6289a71",
   "metadata": {},
   "outputs": [],
   "source": [
    " -- 함수를 작성하라. 필요하다면 여러 개의 등식으로 나누어 작성하라.\n",
    "opt :: Expr -> (Int, Expr)\n",
    "opt e0 = go 0 e0\n",
    "  where\n",
    "    go n e = case step e of\n",
    "        []   -> (n, e)\n",
    "        (e':_) -> go (n+1) e'"
   ]
  },
  {
   "cell_type": "code",
   "execution_count": 244,
   "id": "6f48bdba-1330-4f6d-ac1d-f30fed92cc14",
   "metadata": {},
   "outputs": [
    {
     "data": {
      "text/plain": [
       "(2,\"(-1)\")"
      ]
     },
     "metadata": {},
     "output_type": "display_data"
    }
   ],
   "source": [
    "-- 적절히 테스트\n",
    "test3_1 = Add (Add (I 2) (I (-4))) (I 1)\n",
    "optTest e = let (n, e') = opt e in (n, expr2str e')\n",
    "optTest test3_1"
   ]
  },
  {
   "cell_type": "code",
   "execution_count": 245,
   "id": "147926d1-f94b-437f-875c-66dfd4a12bb3",
   "metadata": {},
   "outputs": [
    {
     "data": {
      "text/plain": [
       "(3,\"6\")"
      ]
     },
     "metadata": {},
     "output_type": "display_data"
    }
   ],
   "source": [
    "-- 적절히 테스트\n",
    "test3_2 = Add (Mul (I 2) (I 3)) (Mul (I 4) (I 0))\n",
    "optTest test3_2"
   ]
  },
  {
   "cell_type": "code",
   "execution_count": 246,
   "id": "b7991bcd-7b71-43d5-9d14-bc8cd299139f",
   "metadata": {},
   "outputs": [
    {
     "data": {
      "text/plain": [
       "(0,\"((1+x)+(y+2))\")"
      ]
     },
     "metadata": {},
     "output_type": "display_data"
    }
   ],
   "source": [
    "-- 적절히 테스트\n",
    "test3_3 = Add (Add (I 1) (V \"x\")) (Add (V \"y\") (I 2))\n",
    "optTest e = let (n, e') = opt e in (n, expr2str e')\n",
    "optTest test3_3"
   ]
  },
  {
   "cell_type": "code",
   "execution_count": 247,
   "id": "9e0d139a-e26d-4973-acf8-8d582242b74a",
   "metadata": {},
   "outputs": [
    {
     "data": {
      "text/plain": [
       "(2,\"y\")"
      ]
     },
     "metadata": {},
     "output_type": "display_data"
    }
   ],
   "source": [
    "-- 적절히 테스트\n",
    "test3_4 = Add (Mul (V \"x\") (I 0)) (V \"y\")\n",
    "optTest test3_4"
   ]
  },
  {
   "cell_type": "markdown",
   "id": "c754b3ad-e0c5-4d15-977d-700d1db79cbd",
   "metadata": {},
   "source": [
    "------\n",
    "### 4. 덧셈의 교환법칙과 결합법칙을 적절히 적용해 최적화를 가능한 한 더 많이 진행시킬 수 있는 형태로 변형된 수식을 계산하는 함수 작성 (8점)\n",
    "\n",
    "우리가 상식적으로 알고 있는 덧셈의 교환법칙과 덧셈의 결합법칙을 추론규칙의 형태로 굳이 나타내 보자면 다음과 같이 표현할 수 있다.\n",
    "\n",
    "$\\displaystyle\n",
    " (\\textsf{symm})\\,\\frac{}{e_1 + e_2 \\sim e_2 + e_1}\n",
    " \\qquad\n",
    " (\\textsf{comm})\\,\\frac{}{(e_1+e_2)+e_3 \\sim e_1+(e_2+e_3)}$\n",
    "\n",
    "곱셈의 교환법칙과 결합법칙은 이번 과제에서는 활용할 필요가 없으므로 추론규칙의 형태고 작성하는 것을 생략함.\n",
    "\n",
    "물론 교환법칙과 결합법칙이 복잡한 수식의 안쪽 부분에도 적용할 수 있어야 하므로 $\\sim$에 대한 맥략규칙도 물론 필요할 것이지만, 여기서는 그렇게까지 자세히 교환법칙과 결합법칙에 대한 추론규칙 하나하나를 따져볼 것은 아니므로 이것도 역시 작성을 생략함.\n",
    "\n",
    "곱셉식과 덧셈식은 교환법칙과 결합법칙이 성립한다는 성질을 활용하면 위의 규칙대로만으로 최적화하는 것보다 더 많은 단계의 최적화가 가능하다.\n",
    "\n",
    "예컨대, $(1 + x) + ((y +  \\textrm{-}3) + (z + 2))$는 앞서 추론규칙으로 작성한 최적화의 의미구조대로는 더 이상 최적화를 진행할 수 없다.\n",
    "\n",
    "하지만, 덧셈에 대한 교환법칙과 결합법칙을 적절히 잘 활용하면 다음과 같이 덧셈식을 재구성할 수 있으므로 \\\n",
    "$(1 + x) + ((y +  \\textrm{-}3) + (z + 2)) \\sim ((1 + \\textrm{-}3) + 2) + ((x+y)+z)$ \\\n",
    "더 많은 단계의 최적화를 아래와 같이 진행시킬 수 있다.\\\n",
    "$((1 + \\textrm{-}3) + 2) + ((x+y)+z) \\longmapsto (\\textrm{-}2 + 2) + ((x+y)+z) \\longmapsto 0 + ((x+y)+z) \\longmapsto (x+y)+z$\n",
    "\n",
    "\n",
    "그래서 이런 식으로 $(1 + x) + ((y +  \\textrm{-}3) + (z + 2))$와 같은 식이 주어지면,\n",
    "교환법칙과 결합법칙이 적절히 적용된 $((1 + \\textrm{-}3) + 2) + ((x+y)+z)$와 같이 최적화를 가능한 많이 진행시킬 수 있는 변형된 형태의 식을 계산하는\n",
    "`refactor` 함수를 작성하라. 필요하다면 보조 함수를 정의하거나 라이브러리 함수를 활용하라.\n",
    "\n",
    "당연한 이야기지만, 이런 식으로 변형의 대상이 되는 덧셈식이 항상 식의 최상위 레벨에 있지 않을 수도 있다. 예를 들면 괄호로 묶여 곱셈식 안에 깊숙히 들어 있는 덧셈식도 이런 변형의 대상이 될 수 있다는 말이다.\n",
    "\n",
    "테스트는 다음과 같은 방식으로 진행하라.\n",
    "1. 테스트를 위해 주어진 식 `e0`를 `opt`로 최적화한 결과 `(n1,e1)`를 계산. (즉, `(n1,e1) = opt e0`)\n",
    "1. `e1`을 `refactor`한 결과 `e2`를 계산. (즉, `e2 = opt e1`)\n",
    "1. `n1` 그리고 `expr2str` 함수를 활용해 `e0`, `e1`, `e2`를 알아보기 좋은 방식으로 각각 한 줄씩 줄바꾸어 가며 출력하여 확인\n",
    "\n",
    "최소 4개 이상의 적절히 다양한 식에 대해 테스트해 보라. 테스트들 중에는 `e0`, `e1`, `e2`가 모두 다른 경우가 반드시 포함되어 있어야 한다."
   ]
  },
  {
   "cell_type": "code",
   "execution_count": 208,
   "id": "5a902068-b054-402c-9eb8-2860ffc34772",
   "metadata": {},
   "outputs": [],
   "source": [
    "refactor :: Expr -> Expr\n",
    "refactor (I n) = I n\n",
    "refactor (V x) = V x\n",
    "refactor (Add e1 e2) = \n",
    "    let e1' = refactor e1\n",
    "        e2' = refactor e2\n",
    "        terms = flattenAdd e1' ++ flattenAdd e2'\n",
    "        (consts, vars) = partition isInt terms\n",
    "        sumConst = sum [n | I n <- consts]\n",
    "        newTerms = if sumConst /= 0 then I sumConst : vars else vars\n",
    "    in rebuildAdd newTerms\n",
    "refactor (Mul e1 e2) = \n",
    "    let e1' = refactor e1\n",
    "        e2' = refactor e2\n",
    "        (consts, vars) = partition isInt (flattenMul e1' ++ flattenMul e2')\n",
    "        productConst = product [n | I n <- consts]\n",
    "    in if productConst == 0 then I 0 else rebuildMul (I productConst : vars)\n",
    "\n",
    "flattenAdd :: Expr -> [Expr]\n",
    "flattenAdd (Add e1 e2) = flattenAdd e1 ++ flattenAdd e2\n",
    "flattenAdd e = [e]\n",
    "\n",
    "flattenMul :: Expr -> [Expr]\n",
    "flattenMul (Mul e1 e2) = flattenMul e1 ++ flattenMul e2\n",
    "flattenMul e = [e]\n",
    "\n",
    "-- 정수 여부 확인\n",
    "isInt :: Expr -> Bool\n",
    "isInt (I _) = True\n",
    "isInt _ = False\n",
    "\n",
    "rebuildAdd :: [Expr] -> Expr\n",
    "rebuildAdd [] = I 0\n",
    "rebuildAdd [x] = x\n",
    "rebuildAdd (x:xs) = Add x (rebuildAdd xs)\n",
    "\n",
    "rebuildMul :: [Expr] -> Expr\n",
    "rebuildMul [] = I 1\n",
    "rebuildMul [x] = x\n",
    "rebuildMul (x:xs) = Mul x (rebuildMul xs)"
   ]
  },
  {
   "cell_type": "code",
   "execution_count": 209,
   "id": "57a1421e-0655-4d3e-8461-9e28f68d3cbb",
   "metadata": {},
   "outputs": [],
   "source": [
    "refactorTest e = expr2str (refactor e)"
   ]
  },
  {
   "cell_type": "code",
   "execution_count": 214,
   "id": "9da8e50d-d8eb-450a-afac-f1c533c24f04",
   "metadata": {},
   "outputs": [
    {
     "data": {
      "text/plain": [
       "(1,\"((1+x)+(2+(z+2)))\")"
      ]
     },
     "metadata": {},
     "output_type": "display_data"
    },
    {
     "data": {
      "text/plain": [
       "\"(5+(x+z))\""
      ]
     },
     "metadata": {},
     "output_type": "display_data"
    }
   ],
   "source": [
    "-- 적절히 테스트1 \n",
    "test4_1_1 = Add (Add (I 1) (V \"x\")) (Add (Add (I 5) (I (-3))) (Add (V \"z\") (I 2))) -- e0 = (1+x)+((5+(-3)+(z+2))\n",
    "optTest test4_1_1 -- opt로 최대로 최적화한 결과 e1 = (1+x)+(2+(z+2))\n",
    "\n",
    "test4_1_2 = Add (Add (I 1) (V \"x\")) (Add (I 2) (Add (V \"z\") (I 2)))--e1을 refactor한 결과 e2 = 5+(x+z)\n",
    "refactorTest test4_1_2"
   ]
  },
  {
   "cell_type": "code",
   "execution_count": 239,
   "id": "d27fdf7d-fd14-405c-9123-6fdcc8a40dc0",
   "metadata": {},
   "outputs": [
    {
     "data": {
      "text/plain": [
       "(1,\"(7+((-2)+x))\")"
      ]
     },
     "metadata": {},
     "output_type": "display_data"
    },
    {
     "data": {
      "text/plain": [
       "\"(5+x)\""
      ]
     },
     "metadata": {},
     "output_type": "display_data"
    }
   ],
   "source": [
    "-- 적절히 테스트2\n",
    "test4_2_1 = Add (Add (I 0) (I 7)) (Add (I (-2)) (V \"x\")) -- e0 = (0+7)+((-2)+x)\n",
    "optTest test4_2_1 -- opt로 최대로 최적화한 결과 e1 = 7+((-2)+x)\n",
    "\n",
    "test4_2_2 = Add (I 7) (Add (I (-2)) (V \"x\")) --e1을 refactor한 결과 e2 = 5+x\n",
    "refactorTest test4_2_2"
   ]
  },
  {
   "cell_type": "code",
   "execution_count": 248,
   "id": "30763170-e5a3-49af-974d-84c518185aa3",
   "metadata": {},
   "outputs": [
    {
     "data": {
      "text/plain": [
       "(2,\"((x+((-5)+y))+((3+z)+4))\")"
      ]
     },
     "metadata": {},
     "output_type": "display_data"
    },
    {
     "data": {
      "text/plain": [
       "\"(2+(x+(y+z)))\""
      ]
     },
     "metadata": {},
     "output_type": "display_data"
    }
   ],
   "source": [
    "-- 적절히 테스트3\n",
    "test4_3_1 = Add (Add (Add (V \"x\") (I 0)) (Add (I (-5)) (V \"y\"))) (Add (Add (I 3) (V \"z\")) (Add (I 0) (I 4))) -- e0 = ((x+0)+(-5+y))+(3+z)+(0+4)\n",
    "optTest test4_3_1  -- opt로 최대로 최적화한 결과 e1 = (x+((-5)+y))+((3+z)+4)\n",
    "\n",
    "test4_3_2 = Add (Add (V \"x\") (Add (I (-5)) (V \"y\"))) (Add (Add (I 3) (V \"z\")) (I 4)) \n",
    "\n",
    "refactorTest test4_3_2 --e1을 refactor한 결과 e2 = 2+(x+(y+z))"
   ]
  },
  {
   "cell_type": "code",
   "execution_count": 249,
   "id": "48ce0b09-951d-45ad-83df-d725c35068e1",
   "metadata": {},
   "outputs": [
    {
     "data": {
      "text/plain": [
       "(3,\"((x+((-5)+y))+(9+(z+2)))\")"
      ]
     },
     "metadata": {},
     "output_type": "display_data"
    },
    {
     "data": {
      "text/plain": [
       "\"(6+(x+(y+z)))\""
      ]
     },
     "metadata": {},
     "output_type": "display_data"
    }
   ],
   "source": [
    "-- 적절히 테스트4\n",
    "test4_4_1 = Add ( Add (Add (V \"x\") (I 0) ) ( Add (I (-5)) (V \"y\") )) ( Add ( Add (I 5) (I 4) ) ( Add (V \"z\") ( Add (I 0) (I 2) ) )) \n",
    "--e0 = ((x+0)+(−5+y))+((5+4)+(z+(0+2)))\n",
    "optTest test4_4_1 --opt로 최대로 최적화한 결과 e1 = (x+((-5)+y))+(9+(z+2))\n",
    "\n",
    "test4_4_2 =  Add (Add (V \"x\") (Add (I (-5)) (V \"y\") )) (Add (I 9) (Add (V \"z\") (I 2)))\n",
    "refactorTest test4_4_2 --e1을 refactor한 결과 e2 = 6+(x+(y+z))"
   ]
  },
  {
   "cell_type": "code",
   "execution_count": null,
   "id": "5f49bc71-25f9-4058-86a8-4cf03710c708",
   "metadata": {},
   "outputs": [],
   "source": []
  }
 ],
 "metadata": {
  "kernelspec": {
   "display_name": "Haskell",
   "language": "haskell",
   "name": "haskell"
  },
  "language_info": {
   "codemirror_mode": "ihaskell",
   "file_extension": ".hs",
   "mimetype": "text/x-haskell",
   "name": "haskell",
   "pygments_lexer": "Haskell",
   "version": "9.4.5"
  }
 },
 "nbformat": 4,
 "nbformat_minor": 5
}
