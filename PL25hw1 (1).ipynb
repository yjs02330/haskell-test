{
 "cells": [
  {
   "cell_type": "markdown",
   "id": "eba40424-3156-49d7-8e19-c9d2439aeb48",
   "metadata": {},
   "source": [
    "# HW1 하스켈 데이터 타입과 재귀함수 연습 (PL 2025 Fall @ HNU CE)"
   ]
  },
  {
   "cell_type": "markdown",
   "id": "86d05206-e760-4936-8296-f42f83266964",
   "metadata": {},
   "source": [
    "- 이름: 이재석\n",
    "- 학번: 20210492\n",
    "\n",
    "과제를 하기 전에 위에다 학번과 이름을 꼭 작성하기"
   ]
  },
  {
   "cell_type": "markdown",
   "id": "1055794f-f8d7-4a6c-8f86-2919be4d73ba",
   "metadata": {},
   "source": []
  },
  {
   "cell_type": "code",
   "execution_count": 9,
   "id": "5221a4a6-8b69-4971-9035-cb9cfa70dd6b",
   "metadata": {},
   "outputs": [],
   "source": [
    ":opt no-lint\n",
    "{-# LANGUAGE ScopedTypeVariables #-}"
   ]
  },
  {
   "cell_type": "markdown",
   "id": "c3de1f5b-ab71-4e70-b92f-d12204bddb91",
   "metadata": {},
   "source": [
    "문법구조\n",
    "\n",
    "$\\hspace{-2ex}\\begin{array}{ll}\n",
    "& n \\in \\texttt{Int} \\\\\n",
    "& e \\in \\texttt{Expr} ~::=~ x ~\\mid~ n ~\\mid~ e + e ~\\mid~ e - e\n",
    "\\end{array}$"
   ]
  },
  {
   "cell_type": "code",
   "execution_count": 10,
   "id": "8ad33147-dc89-41f6-8266-04486bd41e4f",
   "metadata": {},
   "outputs": [],
   "source": [
    "data Expr = V Char         -- x       변수\n",
    "          | I Int          -- n       정수 리터럴\n",
    "          | Add Expr Expr  -- e + e   덧셈식\n",
    "          | Sub Expr Expr  -- e - e   뺄셈식\n",
    "       deriving (Eq,Ord,Show) -- Eq 같은지, Ord 순서 비교, Show 출력 가능"
   ]
  },
  {
   "cell_type": "markdown",
   "id": "9836788b-8378-448d-b265-d0b5c0b0db69",
   "metadata": {},
   "source": [
    "----\n",
    "### 1. (2점) 요약문법나무(Abstract Syntax Tree) 표현 연습\n",
    "`(1-(x+2))+((3+4)-y)`를 위의 `Expr` 데이터 타입을 활용하여 하스켈 데이터로 표현.\n",
    "이 식에서 `x`와 `y`는 변수이다."
   ]
  },
  {
   "cell_type": "code",
   "execution_count": 11,
   "id": "040c41be-4afe-4d9a-b4e7-ad6dc32bd6d1",
   "metadata": {},
   "outputs": [],
   "source": [
    "-- 여기에 작성\n",
    "expr :: Expr\n",
    "expr = Add (Sub (I 1) (Add (V 'x') (I 2))) (Sub (Add (I 3) (I 4)) (V 'y'))\n"
   ]
  },
  {
   "cell_type": "markdown",
   "id": "a50ac76b-84a0-451e-9d82-87b1f63b59be",
   "metadata": {},
   "source": [
    "----\n",
    "### 2. (2점) 주어진 식(`Expr`)에 나타나는 변수의 개수를 계산하는 함수\n",
    "\n",
    "아래에 주어진 틀에 따라 4개의 등식으로 이루어진 함수를 작성(`_`과 `undefined`들 대신 적절한 코드 작성)한 다음 3개 이상의 식(`Expr`)에 대해 테스트해 보라."
   ]
  },
  {
   "cell_type": "code",
   "execution_count": 12,
   "id": "21babbf9-fe85-4000-941a-3193e0dba50b",
   "metadata": {},
   "outputs": [],
   "source": [
    "-- 주어진 식에 나타나는 변수의 개수를 계산하는 함수\n",
    "countV :: Expr -> Int\n",
    "countV (V _)       = 1                      -- 변수가 나오면 1\n",
    "countV (I _)       = 0                      -- 정수는 변수 없음 0\n",
    "countV (Add e1 e2) = countV e1 + countV e2 \n",
    "countV (Sub e1 e2) = countV e1 + countV e2"
   ]
  },
  {
   "cell_type": "code",
   "execution_count": 13,
   "id": "96a69453-bf70-4842-a656-c0f6a245f9fc",
   "metadata": {},
   "outputs": [
    {
     "data": {
      "text/plain": [
       "2"
      ]
     },
     "metadata": {},
     "output_type": "display_data"
    }
   ],
   "source": [
    "-- 테스트1 여기에 작성\n",
    "test1 = Add (Sub (I 1) (Add (V 'x') (I 2))) (Sub (Add (I 3) (I 4)) (V 'y'))\n",
    "print $ countV test1"
   ]
  },
  {
   "cell_type": "code",
   "execution_count": 14,
   "id": "fcc11ed4-2a71-4a28-a09d-5ef5a975416b",
   "metadata": {},
   "outputs": [
    {
     "data": {
      "text/plain": [
       "5"
      ]
     },
     "metadata": {},
     "output_type": "display_data"
    }
   ],
   "source": [
    "-- 테스트2 여기에 작성\n",
    "test2 = Add (Add (Add (Add (V 'x') (V 'y')) (V 'z')) (V 'c')) (V 'r')\n",
    "print $ countV test2"
   ]
  },
  {
   "cell_type": "code",
   "execution_count": 15,
   "id": "8ef5e3a0-90d3-4938-b3d8-1d577b809dd2",
   "metadata": {},
   "outputs": [
    {
     "data": {
      "text/plain": [
       "2"
      ]
     },
     "metadata": {},
     "output_type": "display_data"
    }
   ],
   "source": [
    "-- 테스트3 여기에 작성\n",
    "test3 = (Add (I 2) (Sub (V 'x') (V 'y')))\n",
    "print $ countV test3"
   ]
  },
  {
   "cell_type": "markdown",
   "id": "cf201f42-33b8-408b-a2f1-aefce0459b06",
   "metadata": {},
   "source": [
    "----\n",
    "### 3. (2점) AST 형태의 식(`Expr`)을 일차원적인 문자열로 변환하는 함수\n",
    "생략 가능한 괄호를 고려하지 말고 덧셈식이나 뺄셈식은 무조건 항상 괄호로 감싸며, 공백 없이 빽빽히 문자열로 변환하도록 하자.\n",
    "\n",
    "예컨대, `expr2string (Add (I 2) (Sub (V 'x') (V 'y')))`의 계산 결과는 `\"(2+(x-y))\"`이어야 한다.\n",
    "\n",
    "아래에 주어진 틀에 따라 4개의 등식으로 이루어진 함수를 작성(`_`과 `undefined`들 대신 적절한 코드 작성)한 다음 3개 이상의 식(`Expr`)에 대해 테스트해 보라."
   ]
  },
  {
   "cell_type": "code",
   "execution_count": 26,
   "id": "2be36443-4a5c-4f02-ba04-f3825dc68950",
   "metadata": {},
   "outputs": [],
   "source": [
    "-- 식(Expr)을 문자열로 변환하는 함수\n",
    "expr2string :: Expr -> String\n",
    "expr2string (V x) = [x] --문자열로 변환\n",
    "expr2string (I n) = show n --문자열로 변환\n",
    "expr2string (Add e1 e2) = \"(\"++ expr2string e1++\"+\"++ expr2string e2++\")\"\n",
    "expr2string (Sub e1 e2) = \"(\"++ expr2string e1++\"-\"++ expr2string e2++\")\""
   ]
  },
  {
   "cell_type": "code",
   "execution_count": 27,
   "id": "884f21cf-8139-4b10-b171-ddcc345b576f",
   "metadata": {},
   "outputs": [
    {
     "data": {
      "text/plain": [
       "(5-(x+y))"
      ]
     },
     "metadata": {},
     "output_type": "display_data"
    }
   ],
   "source": [
    "-- 테스트1 여기에 작성\n",
    "testStr1 = (Sub (I 5) (Add (V 'x') (V 'y')))\n",
    "putStrLn (expr2string testStr1) --문자열을 출력하는 함수"
   ]
  },
  {
   "cell_type": "code",
   "execution_count": 28,
   "id": "42a436e4-a669-4bf8-95f1-7fa9df9bca44",
   "metadata": {},
   "outputs": [
    {
     "data": {
      "text/plain": [
       "((x+10)-k)"
      ]
     },
     "metadata": {},
     "output_type": "display_data"
    }
   ],
   "source": [
    "-- 테스트2 여기에 작성\n",
    "testStr2 = Sub (Add (V 'x') (I 10)) (V 'k')\n",
    "putStrLn (expr2string testStr2)"
   ]
  },
  {
   "cell_type": "code",
   "execution_count": 29,
   "id": "9a67fb14-25d7-461f-8a3b-cc6f45fe31cf",
   "metadata": {},
   "outputs": [
    {
     "data": {
      "text/plain": [
       "(((x+10)-k)+(5-(x+y)))"
      ]
     },
     "metadata": {},
     "output_type": "display_data"
    }
   ],
   "source": [
    "-- 테스트3 여기에 작성\n",
    "testStr3 = Add (Sub (Add (V 'x') (I 10)) (V 'k')) (Sub (I 5) (Add (V 'x') (V 'y')))\n",
    "putStrLn (expr2string testStr3)"
   ]
  },
  {
   "cell_type": "markdown",
   "id": "c535b3b0-2729-4dd5-8523-640ef32b34d4",
   "metadata": {},
   "source": [
    "----\n",
    "#### 4. (6점) 요약문법나무를 텍스트 그림으로 변환하는 함수\n",
    "네 종류의 선문자 `┃`,`┣`,`━`,`┗`를 활용하여 식(`Expr`)을 나무 모양의 텍스트 그림으로 변환하는 함수 `expr2tree :: Expr -> String`를 작성하고 3개 이상의 식에 대해 테스트해 보라.\n",
    "\n",
    "예컨대,\n",
    "```haskell\n",
    "putStrLn (expr2tree (Sub (V 'x') (I 1) `Add` Sub (I 2) (V 'y')))\n",
    "```\n",
    "위 하스켈 코드를 실행하면 다음과 같이 출력되어야 한다.\n",
    "```\n",
    "(+)\n",
    " ┣━(-)\n",
    " ┃  ┣━ x\n",
    " ┃  ┗━ 1\n",
    " ┗━(-)\n",
    "    ┣━ 2\n",
    "    ┗━ y\n",
    "```\n",
    "\n",
    "덧셈과 뺄셈 기호가 눈에 잘 드러나도록 괄호로 감쌌으며, 변수나 리터럴 상수와 선문자 사이는 한 칸 빈칸으로 띄운다.\n",
    "또, 단 하나의 변수 또는 단 하나의 정수 리터럴로만 이루어진 식은 선문자나 공백 없이 그냥 `x`나 `1`과 같이 출력되면 된다."
   ]
  },
  {
   "cell_type": "code",
   "execution_count": 93,
   "id": "71fb3cee-05ca-4f0e-8fdf-a42c8075045c",
   "metadata": {},
   "outputs": [],
   "source": [
    "-- 여기에 함수 작성 (필요하다면 보조 함수를 활용해 여러 개의 함수로 작성해도 됨)\n",
    "data Expr = V Char         -- 변수\n",
    "          | I Int          -- 정수 리터럴\n",
    "          | Add Expr Expr  -- 덧셈식\n",
    "          | Sub Expr Expr  -- 뺄셈식\n",
    "       deriving (Eq,Ord,Show)\n",
    "\n",
    "-- 최종적으로 텍스트 그림을 생성하는 함수.\n",
    "expr2tree :: Expr -> String\n",
    "expr2tree e = case e of\n",
    "  -- 단 하나의 변수나 정수 리터럴이면 선문자나 공백 없이 그대로 출력\n",
    "  V c -> [c]\n",
    "  I n -> show n\n",
    "  -- 합/차 연산자일 경우 drawTree로 그림을 만들어 unlines로 결합\n",
    "  _   -> unlines (drawTree e)\n",
    "\n",
    "-- 트리를 재귀적으로 텍스트 그림의 각 줄로 표현\n",
    "drawTree :: Expr -> [String]\n",
    "drawTree (V c)     = [[c]]\n",
    "drawTree (I n)     = [show n]\n",
    "drawTree (Add l r) = \"(+)\" : drawSubTrees [l, r]\n",
    "drawTree (Sub l r) = \"(-)\" : drawSubTrees [l, r]\n",
    "\n",
    "-- 이 함수는 자식 노드들을 알맞은 선문자를 붙여 그린다.\n",
    "-- 인자로 들어온 Expr 리스트는 왼쪽에서 오른쪽 순서대로 자식임을 가정한다.\n",
    "drawSubTrees :: [Expr] -> [String]\n",
    "drawSubTrees []     = []\n",
    "drawSubTrees [t]    = shift \" ┗━\" \"    \" (drawTree t)\n",
    "drawSubTrees (t:ts) = shift \" ┣━\" \" ┃  \" (drawTree t) ++ drawSubTrees ts\n",
    "\n",
    "-- shift 함수는 자식 그림의 첫 줄에는 first 문자열(분기선)을,\n",
    "-- 그 외의 줄에는 other 문자열(후속 선)을 접두사로 붙여준다.\n",
    "-- 단, 자식의 첫 문자가 '(' (즉, 합/차 연산자)인 경우에는\n",
    "-- 선문자와 내용 사이에 빈칸을 넣지 않고, 그렇지 않으면 한 칸 띄운다.\n",
    "shift :: String -> String -> [String] -> [String]\n",
    "shift _ _ [] = []\n",
    "shift first other (x:xs) =\n",
    "  let firstLine = first ++ (if not (null x) && head x == '(' then x else \" \" ++ x)\n",
    "      restLine s = other ++ (if not (null s) && head s == ' ' then tail s else s)\n",
    "  in firstLine : map restLine xs"
   ]
  },
  {
   "cell_type": "code",
   "execution_count": 88,
   "id": "9c29b715-620d-45ef-92d7-4ef6b639244c",
   "metadata": {},
   "outputs": [
    {
     "data": {
      "text/plain": [
       "(+)\n",
       " ┣━ 2\n",
       " ┗━(-)\n",
       "    ┣━ x\n",
       "    ┗━ y"
      ]
     },
     "metadata": {},
     "output_type": "display_data"
    }
   ],
   "source": [
    "-- 테스트1 여기에 작성\n",
    "treetest1 = Add (I 2) (Sub (V 'x') (V 'y'))\n",
    "putStrLn (expr2tree treetest1)"
   ]
  },
  {
   "cell_type": "code",
   "execution_count": 105,
   "id": "088bafcc-0b64-4226-bc94-1b82a0ad5188",
   "metadata": {},
   "outputs": [
    {
     "data": {
      "text/plain": [
       "(-)\n",
       " ┣━(+)\n",
       " ┃  ┣━(+)\n",
       " ┃  ┃  ┣━ 3\n",
       " ┃  ┃  ┗━ 4\n",
       " ┃  ┗━ z\n",
       " ┗━ x"
      ]
     },
     "metadata": {},
     "output_type": "display_data"
    }
   ],
   "source": [
    "-- 테스트2 여기에 작성\n",
    "treetest2 = Sub (Add (Add (I 3) (I 4)) (V 'z')) (V 'x') \n",
    "putStrLn (expr2tree treetest2)"
   ]
  },
  {
   "cell_type": "code",
   "execution_count": 90,
   "id": "cb9bec9c-1a50-4d72-bfc9-f028ea1d32fe",
   "metadata": {},
   "outputs": [
    {
     "data": {
      "text/plain": [
       "(+)\n",
       " ┣━ 3\n",
       " ┗━ 4"
      ]
     },
     "metadata": {},
     "output_type": "display_data"
    }
   ],
   "source": [
    "-- 테스트3 여기에 작성\n",
    "treetest3 = Add (I 3) (I 4)\n",
    "putStrLn (expr2tree treetest3)"
   ]
  },
  {
   "cell_type": "code",
   "execution_count": 103,
   "id": "ff7c076e-7145-420e-a6c9-71ba22fd0930",
   "metadata": {},
   "outputs": [
    {
     "data": {
      "text/plain": [
       "(+)\n",
       " ┣━(-)\n",
       " ┃  ┣━ x\n",
       " ┃  ┗━ 1\n",
       " ┗━(-)\n",
       "    ┣━ 2\n",
       "    ┗━ y"
      ]
     },
     "metadata": {},
     "output_type": "display_data"
    }
   ],
   "source": [
    "putStrLn (expr2tree (Sub (V 'x') (I 1) `Add` Sub (I 2) (V 'y')))"
   ]
  },
  {
   "cell_type": "code",
   "execution_count": 104,
   "id": "243e95c1-963f-41a6-9793-25cda194ac8b",
   "metadata": {},
   "outputs": [
    {
     "data": {
      "text/plain": [
       "(+)\n",
       " ┣━ 3\n",
       " ┗━ 4"
      ]
     },
     "metadata": {},
     "output_type": "display_data"
    }
   ],
   "source": [
    "treetest3 = Add (I 3) (I 4) \n",
    "putStrLn (expr2tree treetest3)"
   ]
  },
  {
   "cell_type": "code",
   "execution_count": null,
   "id": "d532b460-93ac-4701-a07c-8c2b7f61b4ad",
   "metadata": {},
   "outputs": [],
   "source": []
  },
  {
   "cell_type": "code",
   "execution_count": null,
   "id": "e11d8c43-08e9-486e-8265-77bf24d854c6",
   "metadata": {},
   "outputs": [],
   "source": []
  }
 ],
 "metadata": {
  "kernelspec": {
   "display_name": "Haskell",
   "language": "haskell",
   "name": "haskell"
  },
  "language_info": {
   "codemirror_mode": "ihaskell",
   "file_extension": ".hs",
   "mimetype": "text/x-haskell",
   "name": "haskell",
   "pygments_lexer": "Haskell",
   "version": "9.4.5"
  }
 },
 "nbformat": 4,
 "nbformat_minor": 5
}
