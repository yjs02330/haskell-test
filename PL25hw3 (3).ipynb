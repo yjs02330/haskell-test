{
 "cells": [
  {
   "cell_type": "markdown",
   "id": "ce93f338-42bb-4d4b-914a-69db6fd12492",
   "metadata": {},
   "source": [
    "# HW3: 게으른 값계산 작은걸음 의미구조 (PL 2025 Fall @ HNU CE)"
   ]
  },
  {
   "cell_type": "markdown",
   "id": "4533b870-6c60-4ad6-889c-c677deb77157",
   "metadata": {},
   "source": [
    "- 이름: 이재석\n",
    "- 학번: 20210492\n",
    "\n",
    "과제를 하기 전에 위에다 학번과 이름을 꼭 작성하기"
   ]
  },
  {
   "cell_type": "markdown",
   "id": "a4740406-7534-47a6-a06b-06b28377544b",
   "metadata": {},
   "source": [
    "----\n",
    "`CESKz`를 완성하고, 적절한 예제를 작성하여 테스트하라.\n",
    "\n",
    "테스트 방법은\n",
    "- `CEKn`에서 중복 계산이 발상하는 식(`Expr`)이 실제로 중복 계산이 발생하는지 `stepCEKn'`로 실행하여 확인하고\n",
    "- `CESKz`에서는 같은 식에서 중복 계산이 발생하지 않음을 `stepCEKz'`로 실행하여 확인하여 비교하라.\n",
    "\n",
    "교재에서처럼 `takeWhile`, `not`, `null`, `iterate` 등을 활용하면 좋다."
   ]
  },
  {
   "cell_type": "code",
   "execution_count": 35,
   "id": "a82c02c5-8bfb-401a-adbb-41d000fceb39",
   "metadata": {},
   "outputs": [],
   "source": [
    ":opt no-lint\n",
    "{-# LANGUAGE TypeSynonymInstances FlexibleInstances #-}"
   ]
  },
  {
   "cell_type": "code",
   "execution_count": 36,
   "id": "6160410f-5c2e-4da1-9e46-2155538bebd6",
   "metadata": {},
   "outputs": [],
   "source": [
    "type Nm = String -- 변수 이름은 문자열로\n",
    "data Expr = Var Nm         -- x\n",
    "          | Lam Nm Expr    -- (λx.e)\n",
    "          | App Expr Expr  -- (e1 e2)\n",
    "          deriving (Eq, Ord)"
   ]
  },
  {
   "cell_type": "code",
   "execution_count": 37,
   "id": "f12cc084-09e0-4f7a-bcee-264a60fe7b1c",
   "metadata": {},
   "outputs": [],
   "source": [
    "instance Show Expr where -- LaTeX 소스코드 생성하는 Show 인스턴스 직접 선언\n",
    "  showsPrec _ (Var x) = showString x\n",
    "  showsPrec p (Lam x e) = showParen (p > 1) $\n",
    "      showString (\"\\\\lambda \"++x++\".\") . showsPrec 1 e\n",
    "  showsPrec p (App e1 e2) = showParen (p > 9) $\n",
    "      showsPrec 9 e1 . showString \"\\\\;\" . showsPrec 10 e2\n",
    "import IHaskell.Display (latex)\n",
    "dTeX e = display [latex $ \"$\"++show e++\"$\"]\n",
    "instance IHaskellDisplay Expr where display = dTeX"
   ]
  },
  {
   "cell_type": "code",
   "execution_count": 38,
   "id": "a5a28d16-f520-4b56-9212-b92b14f7db4c",
   "metadata": {},
   "outputs": [],
   "source": [
    "type Env = [(Nm,Clos)] -- 값계산 환경\n",
    "data Clos = Cl Expr Env deriving (Eq,Ord) -- 클로저"
   ]
  },
  {
   "cell_type": "code",
   "execution_count": 39,
   "id": "9daa2c7d-e557-449f-a86c-01565a99e84d",
   "metadata": {},
   "outputs": [],
   "source": [
    "import Data.List (intercalate)\n",
    "instance {-# OVERLAPS #-} Show Env where\n",
    "    show env = \"\\\\{\"++ intercalate \",\\\\,\" (map show env) ++\"\\\\}\"\n",
    "instance {-# OVERLAPS #-} Show (Nm,Clos) where\n",
    "    show (x,cl) = x++\"{\\\\mapsto}\"++show cl\n",
    "instance Show Clos where\n",
    "    show (Cl e env) = \"\\\\langle \"++show e++\",\"++show env++\"\\\\rangle \"\n",
    "\n",
    "instance {-# OVERLAPS #-} IHaskellDisplay Env  where display = dTeX\n",
    "instance {-# OVERLAPS #-} IHaskellDisplay (Nm,Clos)\n",
    "                                               where display = dTeX\n",
    "instance IHaskellDisplay Clos                  where display = dTeX"
   ]
  },
  {
   "cell_type": "code",
   "execution_count": 40,
   "id": "0cbfec9a-7a61-465f-b751-9875b82f2e08",
   "metadata": {},
   "outputs": [],
   "source": [
    "type Kont = [(Ctx,Env)] -- 나중에 할 일을 Ctx와 Env의 순서쌍 리스트로 표현\n",
    "data Ctx = Done | App1 Expr | App2 Expr  deriving (Eq,Ord)"
   ]
  },
  {
   "cell_type": "code",
   "execution_count": 41,
   "id": "688dad4f-96bb-497c-92a9-b4b821436ba2",
   "metadata": {},
   "outputs": [],
   "source": [
    "instance Show Ctx where -- LaTeX 소스코드 생성하는 Show 인스턴스 직접 선언\n",
    "  showsPrec _ Done = showString \"\\\\bullet \"\n",
    "  showsPrec p (App1 e2) = showParen (p > 9) $\n",
    "      showString \"\\\\bullet \\\\;\" . showsPrec 10 e2\n",
    "  showsPrec p (App2 e1) = showParen (p > 9) $\n",
    "      showsPrec 9 e1 . showString \"\\\\; \\\\bullet\"\n",
    "instance IHaskellDisplay Ctx where display = dTeX"
   ]
  },
  {
   "cell_type": "code",
   "execution_count": 42,
   "id": "7eef28bc-0b52-4e2d-90fc-9d712368ffd8",
   "metadata": {},
   "outputs": [],
   "source": [
    "lookupEnv :: Nm -> Env -> [Clos]\n",
    "lookupEnv x env = case lookup x env of Nothing -> []\n",
    "                                       Just cl -> [cl]"
   ]
  },
  {
   "cell_type": "code",
   "execution_count": 43,
   "id": "dd263401-02fa-40fa-9af6-28d24bdbf428",
   "metadata": {},
   "outputs": [],
   "source": [
    "import Data.List (intercalate)\n",
    "instance {-# OVERLAPS #-} Show Kont where\n",
    "  show k = intercalate \",\\\\,\" (map show k)\n",
    "instance {-# OVERLAPS #-} Show (Clos,Kont) where\n",
    "  show (cl,k) = show cl++\";\\\\,\"++show k\n",
    "instance {-# OVERLAPS #-} Show (Ctx,Env) where\n",
    "  show (ctx,env) = \"\\\\langle \"++show ctx++\",\"++show env++\"\\\\rangle \"\n",
    "instance {-# OVERLAPS #-} IHaskellDisplay Kont where display = dTeX\n",
    "instance {-# OVERLAPS #-} IHaskellDisplay (Clos,Kont)\n",
    "                                               where display = dTeX\n",
    "instance {-# OVERLAPS #-} IHaskellDisplay (Ctx,Env)\n",
    "                                               where display = dTeX"
   ]
  },
  {
   "cell_type": "code",
   "execution_count": 44,
   "id": "ff995669-c23e-49e5-9970-597e122a02b4",
   "metadata": {},
   "outputs": [],
   "source": [
    "stepCEKn :: (Clos,Kont) -> [(Clos,Kont)]\n",
    "stepCEKn (Cl (Var x)     env, k) = [(v,k) | v <- lookupEnv x env]\n",
    "stepCEKn (Cl (App e1 e2) env, k) = [(Cl e1 env, (App1 e2,env):k)]\n",
    "stepCEKn (Cl (Lam x e)  env1, (App1 e2,env):k) = [(Cl e ((x,Cl e2 env):env1), k)]\n",
    "stepCEKn _                       = []"
   ]
  },
  {
   "cell_type": "code",
   "execution_count": 45,
   "id": "ae3bdcdd-acb6-458b-bb7f-04bae454af40",
   "metadata": {},
   "outputs": [],
   "source": [
    "hat f es = concat [f e | e <-es]\n",
    "stepCEKn' = hat stepCEKn"
   ]
  },
  {
   "cell_type": "code",
   "execution_count": 46,
   "id": "aaa7a05e-0c74-45e0-b7c2-662d68ea68ab",
   "metadata": {},
   "outputs": [],
   "source": [
    "type Addr = Int\n",
    "type Env' = [(Nm,Addr)]\n",
    "data Clos' = Cl' Expr Env' deriving (Eq,Ord)\n",
    "\n",
    "lookupEnv' :: Nm -> Env' -> [Addr]\n",
    "lookupEnv' x env = case lookup x env of\n",
    "                     Nothing -> []\n",
    "                     Just l -> [l]"
   ]
  },
  {
   "cell_type": "code",
   "execution_count": 47,
   "id": "bad8c83c-1c9a-4211-9d9c-8e807b0eb7f7",
   "metadata": {},
   "outputs": [],
   "source": [
    "import qualified Data.HashMap.Strict as M -- M.funcName으로 활용\n",
    "import Data.HashMap.Strict (HashMap, (!), (!?)) -- 앞에 M. 없이\n",
    "type Store = HashMap Int Clos'"
   ]
  },
  {
   "cell_type": "code",
   "execution_count": 48,
   "id": "f4c53902-7035-4d6b-9b7b-f2fd0f8271bc",
   "metadata": {},
   "outputs": [],
   "source": [
    "import Data.List (intercalate)\n",
    "instance {-# OVERLAPS #-} Show Env' where\n",
    "  show env = \"\\\\{\"++ intercalate \",\\\\,\" (map show env) ++\"\\\\}\"\n",
    "instance {-# OVERLAPS #-} Show (Nm,Addr) where\n",
    "  show (x,l) = x++\"{\\\\mapsto}\"++show l\n",
    "instance Show Clos' where\n",
    "  show (Cl' e env) = \"\\\\langle \"++show e++\",\"++show env++\"\\\\rangle \"\n",
    "instance {-# OVERLAPS #-} Show (Addr,Clos') where\n",
    "  show (l,cl) = show l++\"{\\\\mapsto}\"++show cl\n",
    "instance {-# OVERLAPS #-} Show Store where\n",
    "  show s = \"\\\\{\"++ intercalate \",\\\\,\" (map show $ M.toList s) ++\"\\\\}\"\n",
    "\n",
    "instance {-# OVERLAPS #-} IHaskellDisplay Env'  where display = dTeX\n",
    "instance {-# OVERLAPS #-} IHaskellDisplay (Nm,Addr) \n",
    "                                                where display = dTeX\n",
    "instance IHaskellDisplay Clos'                  where display = dTeX\n",
    "instance {-# OVERLAPS #-} IHaskellDisplay (Addr,Clos')\n",
    "                                                where display = dTeX\n",
    "instance {-# OVERLAPS #-} IHaskellDisplay Store where display = dTeX"
   ]
  },
  {
   "cell_type": "code",
   "execution_count": 49,
   "id": "13e9f7a8-6cdf-40c7-807c-260e52ff6706",
   "metadata": {},
   "outputs": [],
   "source": [
    "lookupStore :: Addr -> Store -> [Clos']\n",
    "lookupStore l st = case st !? l of\n",
    "                     Nothing -> []\n",
    "                     Just cl -> [cl]"
   ]
  },
  {
   "cell_type": "code",
   "execution_count": 50,
   "id": "c1d11a52-e445-433e-82dc-ec27fc7cda37",
   "metadata": {},
   "outputs": [],
   "source": [
    "type Kont' = [Either Addr (Ctx,Env')]"
   ]
  },
  {
   "cell_type": "code",
   "execution_count": 51,
   "id": "f93298ff-64cb-4f0f-8fac-80595915ecea",
   "metadata": {},
   "outputs": [],
   "source": [
    "import Data.List (intercalate)\n",
    "instance {-# OVERLAPS #-} Show Kont' where\n",
    "  show k = intercalate \",\\\\,\" (map showEither k)\n",
    "         where showEither (Left l)  = show l++\"{\\\\mapsto}\\\\bullet \"\n",
    "               showEither (Right r) = show r\n",
    "instance {-# OVERLAPS #-} Show (Clos',Store,Kont') where\n",
    "  show (cl,s,k) = show cl++\";\\\\,\"++show s++\";\\\\,\"++show k\n",
    "instance {-# OVERLAPS #-} Show (Ctx,Env') where\n",
    "  show (ctx,env) = \"\\\\langle \"++show ctx++\",\"++show env++\"\\\\rangle \"\n",
    "\n",
    "instance {-# OVERLAPS #-} IHaskellDisplay Kont' where display = dTeX\n",
    "instance {-# OVERLAPS #-} IHaskellDisplay (Clos',Store,Kont')\n",
    "                                                where display = dTeX\n",
    "instance {-# OVERLAPS #-} IHaskellDisplay (Ctx,Env')\n",
    "                                                where display = dTeX"
   ]
  },
  {
   "cell_type": "code",
   "execution_count": 58,
   "id": "423338be-cca4-4b55-993b-3ee50fe7bed4",
   "metadata": {},
   "outputs": [],
   "source": [
    "-- 새로운 주소 생성: 가장 큰 키 + 1\n",
    "freshAddr :: Store -> Addr\n",
    "freshAddr st = if M.null st then 0 else 1 + maximum (M.keys st)\n",
    "\n",
    "stepCESKz :: (Clos', Store, Kont') -> [(Clos', Store, Kont')]\n",
    "stepCESKz (Cl' (Var x) env, st, k) =\n",
    "  [ (cl, st, Left l : k)\n",
    "  | l <- lookupEnv' x env\n",
    "  , cl <- lookupStore l st\n",
    "  ]\n",
    "\n",
    "-- 함수 호출\n",
    "stepCESKz (Cl' (App e1 e2) env, st, k) =\n",
    "  [ (Cl' e1 env, st, Right (App1 e2, env) : k) ]\n",
    "\n",
    "-- 함수 적용 바인딩\n",
    "stepCESKz (Cl' (Lam x e) env1, st, Right (App1 e2, env2) : k) =\n",
    "  let a   = freshAddr st\n",
    "      st' = M.insert a (Cl' e2 env2) st\n",
    "      env1' = (x, a) : env1\n",
    "  in  [ (Cl' e env1', st', k) ]\n",
    "\n",
    "-- 평가 완료 후 Store 업데이트\n",
    "stepCESKz (cl@(Cl' (Lam _ _) _), st, Left a : k) =\n",
    "  let st' = M.insert a cl st\n",
    "  in  [(cl, st', k)]\n",
    "\n",
    "-- 종료 상태 없음\n",
    "stepCESKz _ = []"
   ]
  },
  {
   "cell_type": "code",
   "execution_count": 59,
   "id": "2e417d4c-40de-4637-a0da-192065d8f945",
   "metadata": {},
   "outputs": [],
   "source": [
    "stepCESKz' = hat stepCESKz -- 여러 번 실행에 편리한 확장된 함수"
   ]
  },
  {
   "cell_type": "code",
   "execution_count": 71,
   "id": "d27fdf7d-fd14-405c-9123-6fdcc8a40dc0",
   "metadata": {},
   "outputs": [],
   "source": [
    "-- 적절한 식(`Expr`)을 정의\n",
    "-- (\\x. x x) (\\y. (u) )\n",
    "-- 여기서 u는 무한 재귀나 부수효과 없는 단순한 변수라고 가정한 예시\n",
    "testExpr :: Expr\n",
    "testExpr = App\n",
    "             (Lam \"x\" (App (Var \"x\") (Var \"x\")))\n",
    "             (Lam \"y\" (Var \"u\"))\n"
   ]
  },
  {
   "cell_type": "code",
   "execution_count": 82,
   "id": "ac2d9c38-991c-4469-ace0-5d8bc8c86651",
   "metadata": {},
   "outputs": [],
   "source": [
    "import Data.List (takeWhile)\n",
    "\n",
    "-- CEKn의 초기 상태\n",
    "initialCEKn :: [(Clos, Kont)]\n",
    "initialCEKn = [(Cl testExpr [], [])]\n",
    "\n",
    "-- CESKz의 초기 상태\n",
    "initialCESKz :: [(Clos', Store, Kont')]\n",
    "initialCESKz = [(Cl' testExpr [], M.empty, [])]\n",
    "\n",
    "-- 실행 트레이스\n",
    "traceCEKn :: [[(Clos, Kont)]]\n",
    "traceCEKn = takeWhile (not . null) $ iterate stepCEKn' initialCEKn\n",
    "\n",
    "traceCESKz :: [[(Clos', Store, Kont')]]\n",
    "traceCESKz = takeWhile (not . null) $ iterate stepCESKz' initialCESKz"
   ]
  },
  {
   "cell_type": "code",
   "execution_count": 83,
   "id": "30763170-e5a3-49af-974d-84c518185aa3",
   "metadata": {},
   "outputs": [
    {
     "data": {
      "text/plain": [
       "\"==== CEKn Trace ====\""
      ]
     },
     "metadata": {},
     "output_type": "display_data"
    },
    {
     "data": {
      "text/latex": [
       "$\\langle (\\lambda x.x\\;x)\\;(\\lambda y.u),\\{\\}\\rangle ;\\,$"
      ]
     },
     "metadata": {},
     "output_type": "display_data"
    },
    {
     "data": {
      "text/latex": [
       "$\\langle \\lambda x.x\\;x,\\{\\}\\rangle ;\\,\\langle \\bullet \\;(\\lambda y.u),\\{\\}\\rangle $"
      ]
     },
     "metadata": {},
     "output_type": "display_data"
    },
    {
     "data": {
      "text/latex": [
       "$\\langle x\\;x,\\{x{\\mapsto}\\langle \\lambda y.u,\\{\\}\\rangle \\}\\rangle ;\\,$"
      ]
     },
     "metadata": {},
     "output_type": "display_data"
    },
    {
     "data": {
      "text/latex": [
       "$\\langle x,\\{x{\\mapsto}\\langle \\lambda y.u,\\{\\}\\rangle \\}\\rangle ;\\,\\langle \\bullet \\;x,\\{x{\\mapsto}\\langle \\lambda y.u,\\{\\}\\rangle \\}\\rangle $"
      ]
     },
     "metadata": {},
     "output_type": "display_data"
    },
    {
     "data": {
      "text/latex": [
       "$\\langle \\lambda y.u,\\{\\}\\rangle ;\\,\\langle \\bullet \\;x,\\{x{\\mapsto}\\langle \\lambda y.u,\\{\\}\\rangle \\}\\rangle $"
      ]
     },
     "metadata": {},
     "output_type": "display_data"
    },
    {
     "data": {
      "text/latex": [
       "$\\langle u,\\{y{\\mapsto}\\langle x,\\{x{\\mapsto}\\langle \\lambda y.u,\\{\\}\\rangle \\}\\rangle \\}\\rangle ;\\,$"
      ]
     },
     "metadata": {},
     "output_type": "display_data"
    }
   ],
   "source": [
    "-- stepCEKn'로 적절히 테스트\n",
    "\"==== CEKn Trace ====\"\n",
    "traceCEKn"
   ]
  },
  {
   "cell_type": "code",
   "execution_count": 84,
   "id": "48ce0b09-951d-45ad-83df-d725c35068e1",
   "metadata": {},
   "outputs": [
    {
     "data": {
      "text/plain": [
       "\"==== CESKz Trace ====\""
      ]
     },
     "metadata": {},
     "output_type": "display_data"
    },
    {
     "data": {
      "text/latex": [
       "$\\langle (\\lambda x.x\\;x)\\;(\\lambda y.u),\\{\\}\\rangle ;\\,\\{\\};\\,$"
      ]
     },
     "metadata": {},
     "output_type": "display_data"
    },
    {
     "data": {
      "text/latex": [
       "$\\langle \\lambda x.x\\;x,\\{\\}\\rangle ;\\,\\{\\};\\,\\langle \\bullet \\;(\\lambda y.u),\\{\\}\\rangle $"
      ]
     },
     "metadata": {},
     "output_type": "display_data"
    },
    {
     "data": {
      "text/latex": [
       "$\\langle x\\;x,\\{x{\\mapsto}0\\}\\rangle ;\\,\\{0{\\mapsto}\\langle \\lambda y.u,\\{\\}\\rangle \\};\\,$"
      ]
     },
     "metadata": {},
     "output_type": "display_data"
    },
    {
     "data": {
      "text/latex": [
       "$\\langle x,\\{x{\\mapsto}0\\}\\rangle ;\\,\\{0{\\mapsto}\\langle \\lambda y.u,\\{\\}\\rangle \\};\\,\\langle \\bullet \\;x,\\{x{\\mapsto}0\\}\\rangle $"
      ]
     },
     "metadata": {},
     "output_type": "display_data"
    },
    {
     "data": {
      "text/latex": [
       "$\\langle \\lambda y.u,\\{\\}\\rangle ;\\,\\{0{\\mapsto}\\langle \\lambda y.u,\\{\\}\\rangle \\};\\,0{\\mapsto}\\bullet ,\\,\\langle \\bullet \\;x,\\{x{\\mapsto}0\\}\\rangle $"
      ]
     },
     "metadata": {},
     "output_type": "display_data"
    },
    {
     "data": {
      "text/latex": [
       "$\\langle \\lambda y.u,\\{\\}\\rangle ;\\,\\{0{\\mapsto}\\langle \\lambda y.u,\\{\\}\\rangle \\};\\,\\langle \\bullet \\;x,\\{x{\\mapsto}0\\}\\rangle $"
      ]
     },
     "metadata": {},
     "output_type": "display_data"
    },
    {
     "data": {
      "text/latex": [
       "$\\langle u,\\{y{\\mapsto}1\\}\\rangle ;\\,\\{0{\\mapsto}\\langle \\lambda y.u,\\{\\}\\rangle ,\\,1{\\mapsto}\\langle x,\\{x{\\mapsto}0\\}\\rangle \\};\\,$"
      ]
     },
     "metadata": {},
     "output_type": "display_data"
    }
   ],
   "source": [
    "-- stepCESKz'로 적절히 테스트\n",
    "\"==== CESKz Trace ====\"\n",
    "traceCESKz\n"
   ]
  },
  {
   "cell_type": "code",
   "execution_count": null,
   "id": "1ec236f4-fec7-40c9-b352-d6bea13e3979",
   "metadata": {},
   "outputs": [],
   "source": []
  }
 ],
 "metadata": {
  "kernelspec": {
   "display_name": "Haskell",
   "language": "haskell",
   "name": "haskell"
  },
  "language_info": {
   "codemirror_mode": "ihaskell",
   "file_extension": ".hs",
   "mimetype": "text/x-haskell",
   "name": "haskell",
   "pygments_lexer": "Haskell",
   "version": "9.8.4"
  }
 },
 "nbformat": 4,
 "nbformat_minor": 5
}
